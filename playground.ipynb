{
  "nbformat": 4,
  "nbformat_minor": 0,
  "metadata": {
    "colab": {
      "name": "Medicine Scraper",
      "provenance": [],
      "collapsed_sections": [],
      "toc_visible": true,
      "include_colab_link": true
    },
    "kernelspec": {
      "display_name": "Python 3",
      "name": "python3"
    }
  },
  "cells": [
    {
      "cell_type": "markdown",
      "metadata": {
        "id": "view-in-github",
        "colab_type": "text"
      },
      "source": [
        "<a href=\"https://colab.research.google.com/github/roberttnovak/MedicineScraper/blob/main/playground.ipynb\" target=\"_parent\"><img src=\"https://colab.research.google.com/assets/colab-badge.svg\" alt=\"Open In Colab\"/></a>"
      ]
    },
    {
      "cell_type": "markdown",
      "metadata": {
        "id": "5fCEDCU_qrC0"
      },
      "source": [
        "# Medicine Scraper"
      ]
    },
    {
      "cell_type": "markdown",
      "metadata": {
        "id": "GJBs_flRovLc"
      },
      "source": [
        "## **Código base**\n",
        "\n",
        "Código desde donde partir antes de proceder al parseo de los datos\n"
      ]
    },
    {
      "cell_type": "code",
      "metadata": {
        "id": "E9FePJ7nRHUR"
      },
      "source": [
        "# Install requirements\n",
        "!pip install selenium\n",
        "!apt-get update # to update ubuntu to correctly run apt install\n",
        "!apt install chromium-chromedriver\n",
        "!cp /usr/lib/chromium-browser/chromedriver /usr/bin"
      ],
      "execution_count": null,
      "outputs": []
    },
    {
      "cell_type": "code",
      "metadata": {
        "colab": {
          "base_uri": "https://localhost:8080/",
          "height": 169
        },
        "id": "gJr_9dXGpJ05",
        "outputId": "fd8787c4-7768-4d47-fda8-3f85e8bc5f4a"
      },
      "source": [
        "from time import sleep\n",
        "from selenium import webdriver\n",
        "from selenium.webdriver.common.keys import Keys\n",
        "from selenium.webdriver.common.by import By #Para poder usar By. dentro de find_element\n",
        "#from webdriver_manager.firefox import GeckoDriverManager\n",
        "from selenium.webdriver.firefox.options import Options\n",
        "\n",
        "\n",
        "import sys\n",
        "sys.path.insert(0,'/usr/lib/chromium-browser/chromedriver')\n",
        "from selenium import webdriver\n",
        "chrome_options = webdriver.ChromeOptions()\n",
        "chrome_options.add_argument('--headless')\n",
        "chrome_options.add_argument('--no-sandbox')\n",
        "chrome_options.add_argument('--disable-dev-shm-usage')\n",
        "\n",
        "driver = webdriver.Chrome('chromedriver',chrome_options=chrome_options)\n",
        "driver.get('https://cima.aemps.es/cima/publico/home.html')\n",
        "driver.find_element(By.CSS_SELECTOR,\"button[onclick='biosimilaresTodos()']\") # Example search in the homepage\n",
        "\n",
        "# Navigate to \"listado de búsqueda\"\n",
        "buscador = driver.find_element(By.ID, \"inputbuscadorsimple\")\n",
        "buscador.clear()\n",
        "buscador.send_keys(\"*\")\n",
        "buscador.send_keys(Keys.ENTER)\n",
        "driver.implicitly_wait(5) # If we do not wait, the `page_source` will not have time to change and it will be showed the previous page (the homepage in this case)\n",
        "driver.page_source"
      ],
      "execution_count": 69,
      "outputs": [
        {
          "output_type": "stream",
          "name": "stderr",
          "text": [
            "/usr/local/lib/python3.7/dist-packages/ipykernel_launcher.py:17: DeprecationWarning: use options instead of chrome_options\n"
          ]
        },
        {
          "output_type": "execute_result",
          "data": {
            "application/vnd.google.colaboratory.intrinsic+json": {
              "type": "string"
            },
            "text/plain": [
              "'<html lang=\"es\"><head>\\n    <meta charset=\"utf-8\">\\n    <meta http-equiv=\"X-UA-Compatible\" content=\"IE=edge\">\\n    <meta name=\"viewport\" content=\"width=device-width, initial-scale=1\">\\n    <meta name=\"author\" content=\"Agencia Española de Medicamentos y Productos Sanitarios\">\\n    <meta name=\"”robots”\" content=\"index,follow\">\\n\\n    <title>.:: CIMA ::. Centro de información de medicamentos</title>\\n\\n    <!-- Bootstrap Core CSS - Uses Bootswatch Flatly Theme: http://bootswatch.com/flatly/ -->\\n\\t<link href=\"../resources/bootstrap3.3.7/css/bootstrap.min.css\" rel=\"stylesheet\">\\n\\n\\t<link id=\"favicon\" rel=\"shortcut icon\" href=\"../resources/images/favicon.ico\">\\n    <!-- Custom CSS -->\\n    <link href=\"../resources/css/cima.css\" rel=\"stylesheet\">\\n    <!-- Custom Fonts -->\\n\\t<link href=\"../resources/font-awesome-4.7.0/css/font-awesome.min.css\" rel=\"stylesheet\" type=\"text/css\">\\n    <link href=\"https://fonts.googleapis.com/css?family=Montserrat:400,700\" rel=\"stylesheet\" type=\"text/css\">\\n    <link href=\"https://fonts.googleapis.com/css?family=Lato:400,700,400italic,700italic\" rel=\"stylesheet\" type=\"text/css\">\\n    \\n    <script type=\"text/javascript\" async=\"\" src=\"https://www.google-analytics.com/plugins/ua/linkid.js\"></script><script async=\"\" src=\"https://www.google-analytics.com/analytics.js\"></script><script type=\"text/javascript\" src=\"../resources/js/jquery-3.3.1.min.js\"></script>\\n\\t<script type=\"text/javascript\" src=\"../resources/bootstrap3.3.7/js/bootstrap.min.js\"></script>\\t\\t\\n\\t\\n\\t<script type=\"text/javascript\" src=\"../resources/js/loadingoverlay.min.js\"></script>\\n\\t<script type=\"text/javascript\" src=\"../resources/js/jquery.animateNumber.min.js\"></script>\\n\\t<script type=\"text/javascript\" src=\"../resources/js/jquery-dateFormat.min.js\"></script>\\n\\t<script type=\"text/javascript\" src=\"../resources/js/mensajes.js\"></script>\\n\\t<script type=\"text/javascript\" src=\"../resources/js/setuptoken.js\"></script>\\n\\t<script type=\"text/javascript\" src=\"../resources/js/header.js\"></script>\\n\\t<script type=\"text/javascript\" src=\"../resources/js/errordialog.js\"></script>\\n\\t<script type=\"text/javascript\" src=\"../resources/js/home.js\"></script>\\n\\t<script type=\"text/javascript\" src=\"../resources/js/footer.js\"></script>\\n\\n\\t\\n</head>\\n\\n<body>\\n\\n<div id=\"header2\" class=\"banner col-md-10 col-md-offset-1 topnav\" style=\"position: fixed; z-index: 1000; display: none;\">\\n\\t\\n\\t\\t<div class=\"col-md-12  textmenutop\" style=\"z-index: 2;\">\\n\\t \\t<nav class=\"navbar navbar-default \" style=\"background-color:transparent;border-color:transparent\">\\n\\t \\t\\n\\t \\t\\t\\t<div class=\"idioma_desk right\" style=\"border:0px solid red\">\\n\\t\\t\\t \\t<ul class=\"nav navbar-nav navbar-right textmenulangG\">\\n\\t\\t\\t \\t\\t<li><a class=\"m_esp\" onclick=\"cambiarIdioma(\\'es\\');\" style=\"color:#337ab7;text-shadow: 0px 0px 0px #1e1e1e;font-size:9px\">Español</a></li>\\n\\t                <li><a class=\"m_ingles\" onclick=\"cambiarIdioma(\\'en\\');\" style=\"color:#337ab7;text-shadow: 0px 0px 0px #1e1e1e;font-size:9px\">English</a></li>\\n\\t\\t\\t \\t</ul>\\n\\t\\t\\t \\t</div>\\n\\t \\t\\n\\t\\t\\t <!-- Brand and toggle get grouped for better mobile display -->\\n            <div class=\"navbar-header\">\\n                <button type=\"button\" class=\"navbar-toggle\" data-toggle=\"collapse\" data-target=\"#bs-example-navbar-collapse-2\" style=\"border-color:#38659c;background-color:rgba(255, 255, 255, 0.4);\">\\n                    <span class=\"sr-only\">Toggle navigation</span>\\n                    <span class=\"icon-bar\" style=\"background-color:#38659c\"></span>\\n                    <span class=\"icon-bar\" style=\"background-color:#38659c\"></span>\\n                    <span class=\"icon-bar\" style=\"background-color:#38659c\"></span>\\n                </button>     \\n            <div class=\"col-md-10 col-sm-10 col-xs-8 navbarimage\">\\n            \\t<a class=\"cabimg1\" href=\"http://www.msc.es\" rel=\"noreferrer\" target=\"_blank\"><img alt=\"aemps\" class=\"img-responsive2\" src=\"https://www.aemps.gob.es/diseno/img/logo_Ministerio.jpg\" style=\"cursor:pointer;display:inline\"></a>\\n            \\t<a class=\"cabimg2\" href=\"https://www.aemps.gob.es/\" rel=\"noreferrer\" target=\"_blank\"><img alt=\"aemps\" class=\"img-responsive2\" src=\"https://www.aemps.gob.es/diseno/img/logo_aemps.jpg\" style=\"cursor:pointer;display:inline;\"></a>\\n\\t\\t\\t\\t<img alt=\"cima\" class=\"img-responsive3\" src=\"../resources/images/CimaTranspaPeq.gif\" onclick=\"location.href=\\'../publico/home.html\\'\" style=\"cursor:pointer;display:inline\">\\t\\t\\t\\t\\n\\t\\t\\t</div>           \\n            </div>\\t\\n\\t\\t\\t\\n\\t\\t\\t <div class=\"collapse navbar-collapse menutopnew\" id=\"bs-example-navbar-collapse-2\" style=\"height:1px;border-color:transparent;border-radius: 5px;\">\\n\\t\\t\\t \\t<ul class=\"nav navbar-nav navbar-right headerLinks\">\\t\\n\\t\\t\\t \\t\\t<li class=\"idioma_device\">\\t\\t\\t\\t \\t\\n\\t\\t\\t\\t \\t\\t<a class=\"m_esp dev_lang_es\" onclick=\"cambiarIdioma(\\'es\\');\">Español</a>\\n\\t\\t                <a class=\"m_ingles dev_lang_en\" onclick=\"cambiarIdioma(\\'en\\');\">English</a>\\t\\t\\t\\t \\t\\n\\t\\t\\t\\t \\t</li>\\t\\t \\t\\n                \\t<li><a class=\"active2 m_queescima\" href=\"../publico/home.html#quees\">What is CIMA?</a></li>\\n                \\t<li><a class=\"active2 m_nomenclator\" href=\"../publico/nomenclator.html\">Nomenclator</a></li>\\n                \\t<li><a class=\"active2 m_glosario\" href=\"../publico/glosario.html\" \"=\"\">Glossary</a></li>\\n                \\t<li><button id=\"m_accesousuarios2\" type=\"button\" class=\"btn btn-danger btn-sm\" style=\"margin-top:10px;margin-left:10px\" onclick=\"location.href=\\'loginregistro.html\\'\">Log in</button></li>\\n                \\t<li><button id=\"m_perfilusuario2\" type=\"button\" class=\"btn btn-danger btn-sm\" style=\"margin-top: 10px; margin-left: 10px; display: none;\" onclick=\"location.href=\\'../privado/usuario.html\\'\"><i class=\"fa fa-user\" style=\"font-size:17px;margin-right:10px\"></i></button></li>\\n                </ul>            \\n\\t\\t\\t</div>\\n\\t\\t</nav>\\n\\n\\t</div>\\n\\t</div>\\n\\n<div class=\"bannerportada\">\\n \\n\\t<div id=\"header\" class=\"col-md-12  textmenutop\" style=\"z-index: 2;\">\\n\\t\\t\\t\\t \\t\\n\\t \\t<nav class=\"navbar navbar-default \" style=\"background-color:transparent;border-color:transparent\">\\t \\t\\n\\t \\t\\t\\t<div class=\"idioma_desk right\" style=\"border:0px solid red\">\\n\\t\\t\\t \\t<ul class=\"nav navbar-nav navbar-right textmenulangG\">\\n\\t\\t\\t \\t\\t<li><a class=\"m_esp\" onclick=\"cambiarIdioma(\\'es\\');\" style=\"font-size:9px\">Español</a></li>\\n\\t                <li><a class=\"m_ingles\" onclick=\"cambiarIdioma(\\'en\\');\" style=\"font-size:9px\">English</a></li>\\n\\t\\t\\t \\t</ul>\\n\\t\\t\\t \\t</div>\\n\\t\\t\\t \\t\\n\\t\\t\\t <!-- Brand and toggle get grouped for better mobile display -->\\n            <div class=\"navbar-header\">\\n                <button type=\"button\" class=\"navbar-toggle\" data-toggle=\"collapse\" data-target=\"#bs-example-navbar-collapse-1\" style=\"border-color:#38659c;background-color:rgba(255, 255, 255, 0.4);\">\\n                    <span class=\"sr-only\">Toggle navigation</span>\\n                    <span class=\"icon-bar\" style=\"background-color:#38659c\"></span>\\n                    <span class=\"icon-bar\" style=\"background-color:#38659c\"></span>\\n                    <span class=\"icon-bar\" style=\"background-color:#38659c\"></span>\\n                </button>     \\n            <div class=\"col-md-10 col-sm-10 col-xs-8 navbarimage\">\\n            <a class=\"cabimg1\" href=\"http://www.msc.es\" rel=\"noreferrer\" target=\"_blank\"><img alt=\"msc\" class=\"img-responsive2\" src=\"https://www.aemps.gob.es/diseno/img/logo_Ministerio.jpg\" style=\"cursor:pointer;display:inline\"></a>\\n            <a class=\"cabimg2\" href=\"https://www.aemps.gob.es/\" rel=\"noreferrer\" target=\"_blank\"><img alt=\"aemps\" class=\"img-responsive2\" src=\"https://www.aemps.gob.es/diseno/img/logo_aemps.jpg\" style=\"cursor:pointer;display:inline;\"></a>\\n\\t\\t\\t\\t<img class=\"img-responsive3\" alt=\"cima\" src=\"../resources/images/CimaTranspaPeq.gif\" onclick=\"location.href=\\'../publico/home.html\\'\" style=\"cursor:pointer;display:inline\">\\t\\t\\t\\t\\n\\t\\t\\t</div>           \\n            </div>\\n\\t\\t\\t\\t\\n\\t\\t\\t <div class=\"collapse navbar-collapse menutopnew\" id=\"bs-example-navbar-collapse-1\" style=\"height:1px;border-color:transparent;border-radius: 5px;\">\\n\\t\\t\\t \\t<ul class=\"nav navbar-nav navbar-right headerLinks\">\\t\\n\\t\\t\\t \\t\\t<li class=\"idioma_device\">\\t\\t\\t\\t \\t\\n\\t\\t\\t\\t \\t\\t<a class=\"m_esp dev_lang_es\" onclick=\"cambiarIdioma(\\'es\\');\">Español</a>\\n\\t\\t                <a class=\"m_ingles dev_lang_en\" onclick=\"cambiarIdioma(\\'en\\');\">English</a>\\t\\t\\t\\t \\t\\n\\t\\t\\t\\t \\t</li>\\t\\t \\t\\n                \\t<li><a class=\"active m_queescima\" href=\"../publico/home.html#quees\">What is CIMA?</a></li>\\n                \\t<li><a class=\"active m_nomenclator\" href=\"../publico/nomenclator.html\">Nomenclator</a></li>\\n                \\t<li><a class=\"active m_glosario\" href=\"../publico/glosario.html\">Glossary</a></li>\\n                \\t<li><button id=\"m_accesousuarios\" type=\"button\" class=\"btn btn-danger btn-sm\" style=\"margin-top:10px;margin-left:10px\" onclick=\"location.href=\\'loginregistro.html\\'\">Log in</button></li>\\n                \\t<li><button id=\"m_perfilusuario\" type=\"button\" class=\"btn btn-danger btn-sm\" style=\"margin-top: 10px; margin-left: 10px; display: none;\" onclick=\"location.href=\\'../privado/usuario.html\\'\"><i class=\"fa fa-user\" style=\"font-size:17px;margin-right:10px\"></i></button></li>\\n                </ul>            \\n\\t\\t\\t</div>\\n\\t\\t</nav>\\n\\t</div>\\t\\n\\t\\n\\t<div class=\"boxpheader\">\\n\\t\\t<h1 id=\"m_tituloprincipal\">Find your medicine here</h1>\\n\\t</div>\\n\\t<div class=\"container\">\\n\\t\\t<div class=\"input-group col-md-6 col-md-offset-3\">\\n             <input style=\"height: 50px;\" id=\"inputbuscadorsimple\" aria-label=\"buscador\" type=\"text\" class=\"search-query form-control\" placeholder=\"Enter medicine name, active ingredient or company\">\\n             <span class=\"input-group-btn\">\\n                 <button id=\"btnBuscarSimple\" aria-label=\"buscar\" class=\"btn btn-danger\" type=\"button\" style=\"height: 50px;\">\\n                     <i class=\"fa fa-search\"></i>\\n                 </button>                \\n             </span>\\n        </div>\\n         \\n\\t\\t<div class=\"col-md-6 col-md-offset-3\" style=\"color:red;\"><h4 id=\"notext\" style=\"display: none;\"></h4></div>\\n         \\n\\t\\t<div class=\"col-md-6 col-md-offset-3 labelAvanzado\"><h3><a id=\"m_buscadoravanzado\" onclick=\"startAvanzado()\">Healthcare professionals browser &gt;&gt;</a></h3></div>\\n        \\n\\t</div>\\t\\n\\t<div class=\"pelotos\">\\t\\t\\n\\t\\t<div class=\"guide_ball guide_left shadow_border_min\" onclick=\"window.open(\\'https://www.aemps.gob.es/apps/cima/docs/medicamentosygluten.pdf\\')\"><img alt=\"gluten\" src=\"../resources/images/gluten.png\" width=\"25%\"><br><span id=\"ballgluten\">Medicines and gluten</span></div>\\n\\t\\t<div class=\"guide_ball guide_center shadow_border_min\" onclick=\"location.href=\\'tutorialprospecto.html\\'\"><img alt=\"ear\" style=\"border-radius: 10px;\" src=\"../resources/images/sordo_icon2.png\" width=\"40%\"><br><span id=\"ballprospecto\">Leaflet info.</span></div>\\n<!-- \\t\\t<div class=\"guide_ball guide_left shadow_border_min\"  onclick=\"location.href=\\'listavtm.html\\'\"><img alt=\"vtm\" src=\"../resources/images/vtmicon.png\" width=\"40%\"><br/><span id=\"ballgluten\">Biomarcadores</span></div> -->\\n\\t    <div class=\"guide_ball guide_left shadow_border_min\" onclick=\"buscarVacunasCovid()\"><img alt=\"vtm\" src=\"../resources/images/coronavirus.png\" width=\"40%\"><br><span id=\"ballcovid\">Covid-19 vaccines</span></div>\\n\\t\\t\\n\\t</div>\\t\\n</div>\\n\\n<div class=\"boxpheader2 \">\\n   \\t<div class=\"boxphoto\">\\n            <h1 id=\"countMed\" class=\"count\">14.838</h1><h4 id=\"m_medicamentos\">Medicines *</h4>\\n            <h4 style=\"display:inline;margin-left:12px;font-size:8px;\"></h4>\\n      </div>\\n      \\n      <div class=\"boxphoto\">\\n            <h1 id=\"countPactivo\" class=\"count\">2.554</h1><h4 id=\"m_principiosactivos\">Active Ingredients *</h4>\\n            <h4 style=\"display:inline;margin-left:12px;font-size:8px;\"></h4> \\n      </div>\\n      \\n      <div class=\"boxphoto\">\\n            <h1 id=\"countFormatos\" class=\"count\">32.315</h1> \\n            <h4 id=\"m_formatos\">Pack sizes **</h4>\\n            <h4 style=\"display:inline;margin-left:12px;font-size:8px;\"></h4>\\n      </div>\\n      \\n      <div class=\"boxphoto\">\\n            <h1 id=\"countBiosimilares\" class=\"count\">373</h1><h4 id=\"m_biosimilares\">Biosimilars **</h4>\\n            <button type=\"button\" class=\"btn btn-primary btn-xs buttonverlistado\" style=\"font-size:10px;font-weight:bold;\" onclick=\"biosimilaresTodos()\">View list</button>\\n      </div>\\n      \\n      <div class=\"boxphoto\">\\n            <h1 id=\"countHuerfanos\" class=\"count\">259</h1><h4 id=\"m_huerfanos\">Orphans **</h4>\\n            <button type=\"button\" class=\"btn btn-primary btn-xs buttonverlistado\" style=\"font-size:10px;font-weight:bold;\" onclick=\"huerfanosTodos()\">View list</button>\\n      </div>\\n     <div class=\"hidden-sm hidden-xs\" style=\"margin-top:-25px;padding-bottom:10px;\">\\n     \\t<p style=\"text-align:left;margin-left:-550px;font-size:12px; color:#11436D;display: inline;\" id=\"m_contadoresnotas\">*authorised medicines data</p>\\n     \\t<p style=\"text-align:left;margin-left:50px;font-size:12px; color:#11436D;display: inline;\" id=\"m_contadorespresetnaciones\">**pharmaceutical pack size data</p>\\n     \\t\\n     </div>\\n</div>\\n\\n<div class=\"box\">\\n<div>\\n\\t<div class=\"col-md-12 col-xs-12\" style=\"padding-bottom: 40px;background-color:#ffffff\">\\n\\t\\t<div class=\"box3 col-md-3 col-xs-12\" style=\"border:0px solid #FF0000;padding-top:1px;margin-top:10px;\">\\n\\t\\t\\t <div class=\"notice notice-success\" style=\"padding-bottom:5px;\">\\n\\t\\t\\t        <a style=\"cursor: pointer;\" id=\"btnVerMasNuevosTit\"><strong class=\"homeheadlist\" id=\"m_nuevosmedicamentos\" style=\"color:#2F7709;\">NEW MEDICINES</strong></a>\\n\\t\\t\\t      \\t<p style=\"padding:0;margin-top:20px;margin-bottom:0;text-align:right;font-size:10pt;\"><a id=\"btnVerMasNuevos\" style=\"cursor: pointer;color:#11436D; text-align:right;\">See more</a></p>\\n\\t\\t    </div>\\n\\t\\t\\t<div id=\"nuevosList\" class=\"comments-list hidden-xs\"><div class=\"media\" style=\"margin-bottom:10px;word-break: break-word\"><div class=\"media-body\"><h5 class=\"media-heading user_name\"><a style=\"cursor:pointer;font-weight:normal;\" onclick=\"medicamentoOnSelect(\\'86365\\')\">AMLODIPINO/VALSARTAN/HIDROCLOROTIAZIDA TECNIGEN 5 MG/160 MG/25 MG COMPRIMIDOS RECUBIERTOS CON PELICULA EFG</a></h5><div class=\"col-md-12\" style=\"margin:0;padding:0;text-align:left;border:0px solid red;color:#38659c;font-size:12px;word-break: break-word\">Tecnimede España Industria Farmaceutica, S.A.</div><div class=\"col-md-12\" style=\"margin:0;padding:0;text-align:right;border:0px solid red;color:#212121;font-size:12px;word-break: break-word\">Fecha: 27/10/2021</div></div><div class=\"pull-right\"></div></div> <div class=\"media\" style=\"margin-bottom:10px;word-break: break-word\"><div class=\"media-body\"><h5 class=\"media-heading user_name\"><a style=\"cursor:pointer;font-weight:normal;\" onclick=\"medicamentoOnSelect(\\'86364\\')\">AMLODIPINO/VALSARTAN/HIDROCLOROTIAZIDA TECNIGEN 5 MG/160 MG/12,5 MG COMPRIMIDOS RECUBIERTOS CON PELICULA EFG</a></h5><div class=\"col-md-12\" style=\"margin:0;padding:0;text-align:left;border:0px solid red;color:#38659c;font-size:12px;word-break: break-word\">Tecnimede España Industria Farmaceutica, S.A.</div><div class=\"col-md-12\" style=\"margin:0;padding:0;text-align:right;border:0px solid red;color:#212121;font-size:12px;word-break: break-word\">Fecha: 27/10/2021</div></div><div class=\"pull-right\"></div></div> <div class=\"media\" style=\"margin-bottom:10px;word-break: break-word\"><div class=\"media-body\"><h5 class=\"media-heading user_name\"><a style=\"cursor:pointer;font-weight:normal;\" onclick=\"medicamentoOnSelect(\\'86363\\')\">AMLODIPINO/VALSARTAN/HIDROCLOROTIAZIDA TECNIGEN 10 MG/320 MG/25 MG COMPRIMIDOS RECUBIERTOS CON PELICULA EFG</a></h5><div class=\"col-md-12\" style=\"margin:0;padding:0;text-align:left;border:0px solid red;color:#38659c;font-size:12px;word-break: break-word\">Tecnimede España Industria Farmaceutica, S.A.</div><div class=\"col-md-12\" style=\"margin:0;padding:0;text-align:right;border:0px solid red;color:#212121;font-size:12px;word-break: break-word\">Fecha: 27/10/2021</div></div><div class=\"pull-right\"></div></div> <div class=\"media\" style=\"margin-bottom:10px;word-break: break-word\"><div class=\"media-body\"><h5 class=\"media-heading user_name\"><a style=\"cursor:pointer;font-weight:normal;\" onclick=\"medicamentoOnSelect(\\'86362\\')\">AMLODIPINO/VALSARTAN/HIDROCLOROTIAZIDA TECNIGEN 10 MG/160 MG/25 MG COMPRIMIDOS RECUBIERTOS CON PELICULA EFG</a></h5><div class=\"col-md-12\" style=\"margin:0;padding:0;text-align:left;border:0px solid red;color:#38659c;font-size:12px;word-break: break-word\">Tecnimede España Industria Farmaceutica, S.A.</div><div class=\"col-md-12\" style=\"margin:0;padding:0;text-align:right;border:0px solid red;color:#212121;font-size:12px;word-break: break-word\">Fecha: 27/10/2021</div></div><div class=\"pull-right\"></div></div> <div class=\"media\" style=\"margin-bottom:10px;word-break: break-word\"><div class=\"media-body\"><h5 class=\"media-heading user_name\"><a style=\"cursor:pointer;font-weight:normal;\" onclick=\"medicamentoOnSelect(\\'86361\\')\">AMLODIPINO/VALSARTAN/HIDROCLOROTIAZIDA TECNIGEN 10 MG/160 MG/12,5 MG COMPRIMIDOS RECUBIERTOS CON PELICULA EFG</a></h5><div class=\"col-md-12\" style=\"margin:0;padding:0;text-align:left;border:0px solid red;color:#38659c;font-size:12px;word-break: break-word\">Tecnimede España Industria Farmaceutica, S.A.</div><div class=\"col-md-12\" style=\"margin:0;padding:0;text-align:right;border:0px solid red;color:#212121;font-size:12px;word-break: break-word\">Fecha: 27/10/2021</div></div><div class=\"pull-right\"></div></div> <div class=\"media\" style=\"margin-bottom:10px;word-break: break-word\"><div class=\"media-body\"><h5 class=\"media-heading user_name\"><a style=\"cursor:pointer;font-weight:normal;\" onclick=\"medicamentoOnSelect(\\'1211575006\\')\">BIMZELX 160 MG SOLUCION INYECTABLE EN PLUMA PRECARGADA</a></h5><div class=\"col-md-12\" style=\"margin:0;padding:0;text-align:left;border:0px solid red;color:#38659c;font-size:12px;word-break: break-word\">Ucb Pharma Sa</div><div class=\"col-md-12\" style=\"margin:0;padding:0;text-align:right;border:0px solid red;color:#212121;font-size:12px;word-break: break-word\">Fecha: 27/10/2021</div></div><div class=\"pull-right\"></div></div> <div class=\"media\" style=\"margin-bottom:10px;word-break: break-word\"><div class=\"media-body\"><h5 class=\"media-heading user_name\"><a style=\"cursor:pointer;font-weight:normal;\" onclick=\"medicamentoOnSelect(\\'1211575002\\')\">BIMZELX 160 MG SOLUCION INYECTABLE EN JERINGA PRECARGADA</a></h5><div class=\"col-md-12\" style=\"margin:0;padding:0;text-align:left;border:0px solid red;color:#38659c;font-size:12px;word-break: break-word\">Ucb Pharma Sa</div><div class=\"col-md-12\" style=\"margin:0;padding:0;text-align:right;border:0px solid red;color:#212121;font-size:12px;word-break: break-word\">Fecha: 27/10/2021</div></div><div class=\"pull-right\"></div></div> <div class=\"media\" style=\"margin-bottom:10px;word-break: break-word\"><div class=\"media-body\"><h5 class=\"media-heading user_name\"><a style=\"cursor:pointer;font-weight:normal;\" onclick=\"medicamentoOnSelect(\\'86054\\')\">PALIPERIDONA TEVA 50 MG SUSPENSION INYECTABLE DE LIBERACION PROLONGADA EFG</a></h5><div class=\"col-md-12\" style=\"margin:0;padding:0;text-align:left;border:0px solid red;color:#38659c;font-size:12px;word-break: break-word\">Teva B.V.</div><div class=\"col-md-12\" style=\"margin:0;padding:0;text-align:right;border:0px solid red;color:#212121;font-size:12px;word-break: break-word\">Fecha: 27/10/2021</div></div><div class=\"pull-right\"></div></div> </div>\\t\\t\\t\\n\\t\\t</div>\\t\\t\\n\\t\\t\\n\\t\\t<div class=\"box3 col-md-3 col-xs-12\" style=\"border:0px solid #FF0000;padding-top:1px;margin-top:10px;\">\\n\\t\\t<div class=\"notice notice-info\" style=\"padding-bottom:5px;\">\\n\\t\\t        <a style=\"cursor: pointer;\" id=\"btnVerMasUltimasTit\"><strong id=\"m_ultimasactualizaciones\" style=\"color:#1C7897;\"> LATEST MEDICINE UPDATES</strong></a><i id=\"m_ultimasactualizaciones_info\" class=\"fa fa-question-circle-o\" aria-hidden=\"true\" style=\"font-size:12pt;color: #5385c1;margin-left:5px;\" data-original-title=\"\" title=\"\"></i>\\n\\t\\t        <p style=\"padding:0;margin-top:20px;margin-bottom:0;text-align:right;font-size:10pt;\"><a id=\"btnVerMasUltimas\" style=\"cursor: pointer;color:#11436D;\">See more</a></p>\\n\\t\\t    </div>\\n\\t\\t\\t<div id=\"ultimasList\" class=\"comments-list hidden-xs\"><div class=\"media\" style=\"margin-bottom:10px;word-break: break-word\"><div class=\"media-body\"><h5 class=\"media-heading user_name\"><a style=\"cursor:pointer;font-weight:normal;\" onclick=\"medicamentoOnSelect(\\'65273\\')\">DOLODOL 100 mg CAPSULAS DE LIBERACION PROLONGADA.</a></h5><div class=\"col-md-12\" style=\"margin:0;padding:0;text-align:left;border:0px solid red;color:#38659c;font-size:12px;\">Cantabria Pharma, S.L</div><div class=\"col-md-12\" style=\"margin:0;padding:0;text-align:right;border:0px solid red;color:#212121;font-size:12px;\">Update date: 30/10/2021</div><div class=\"col-md-12\" style=\"margin:0;margin-top:10px; padding:0;text-align:left;border:0px solid red;color:#11436D;font-size:12px;\">Changes: Status,Others</div></div><div class=\"pull-right\">\\t\\t\\t\\t</div></div> <div class=\"media\" style=\"margin-bottom:10px;word-break: break-word\"><div class=\"media-body\"><h5 class=\"media-heading user_name\"><a style=\"cursor:pointer;font-weight:normal;\" onclick=\"medicamentoOnSelect(\\'65271\\')\">DOLODOL 150 mg CAPSULAS DE LIBERACION PROLONGADA</a></h5><div class=\"col-md-12\" style=\"margin:0;padding:0;text-align:left;border:0px solid red;color:#38659c;font-size:12px;\">Cantabria Pharma, S.L</div><div class=\"col-md-12\" style=\"margin:0;padding:0;text-align:right;border:0px solid red;color:#212121;font-size:12px;\">Update date: 30/10/2021</div><div class=\"col-md-12\" style=\"margin:0;margin-top:10px; padding:0;text-align:left;border:0px solid red;color:#11436D;font-size:12px;\">Changes: Status,Others</div></div><div class=\"pull-right\">\\t\\t\\t\\t</div></div> <div class=\"media\" style=\"margin-bottom:10px;word-break: break-word\"><div class=\"media-body\"><h5 class=\"media-heading user_name\"><a style=\"cursor:pointer;font-weight:normal;\" onclick=\"medicamentoOnSelect(\\'65272\\')\">DOLODOL 200 mg CAPSULAS DE LIBERACION PROLONGADA</a></h5><div class=\"col-md-12\" style=\"margin:0;padding:0;text-align:left;border:0px solid red;color:#38659c;font-size:12px;\">Cantabria Pharma, S.L</div><div class=\"col-md-12\" style=\"margin:0;padding:0;text-align:right;border:0px solid red;color:#212121;font-size:12px;\">Update date: 30/10/2021</div><div class=\"col-md-12\" style=\"margin:0;margin-top:10px; padding:0;text-align:left;border:0px solid red;color:#11436D;font-size:12px;\">Changes: Status,Others</div></div><div class=\"pull-right\">\\t\\t\\t\\t</div></div> <div class=\"media\" style=\"margin-bottom:10px;word-break: break-word\"><div class=\"media-body\"><h5 class=\"media-heading user_name\"><a style=\"cursor:pointer;font-weight:normal;\" onclick=\"medicamentoOnSelect(\\'034824460\\')\">CELEBREX 200 MG CAPSULAS DURAS</a></h5><div class=\"col-md-12\" style=\"margin:0;padding:0;text-align:left;border:0px solid red;color:#38659c;font-size:12px;\">Pfizer Italia Srl</div><div class=\"col-md-12\" style=\"margin:0;padding:0;text-align:right;border:0px solid red;color:#212121;font-size:12px;\">Update date: 30/10/2021</div><div class=\"col-md-12\" style=\"margin:0;margin-top:10px; padding:0;text-align:left;border:0px solid red;color:#11436D;font-size:12px;\">Changes: Marketing status,Others</div></div><div class=\"pull-right\">\\t\\t\\t\\t</div></div> <div class=\"media\" style=\"margin-bottom:10px;word-break: break-word\"><div class=\"media-body\"><h5 class=\"media-heading user_name\"><a style=\"cursor:pointer;font-weight:normal;\" onclick=\"medicamentoOnSelect(\\'3400935437068IP1\\')\">CELEBREX 200 MG CAPSULAS DURAS</a></h5><div class=\"col-md-12\" style=\"margin:0;padding:0;text-align:left;border:0px solid red;color:#38659c;font-size:12px;\">Pfizer Holding France S.C.A.</div><div class=\"col-md-12\" style=\"margin:0;padding:0;text-align:right;border:0px solid red;color:#212121;font-size:12px;\">Update date: 30/10/2021</div><div class=\"col-md-12\" style=\"margin:0;margin-top:10px; padding:0;text-align:left;border:0px solid red;color:#11436D;font-size:12px;\">Changes: Marketing status,Others</div></div><div class=\"pull-right\">\\t\\t\\t\\t</div></div> <div class=\"media\" style=\"margin-bottom:10px;word-break: break-word\"><div class=\"media-body\"><h5 class=\"media-heading user_name\"><a style=\"cursor:pointer;font-weight:normal;\" onclick=\"medicamentoOnSelect(\\'499136-4IP\\')\">IBIS 20mg comprimidos</a></h5><div class=\"col-md-12\" style=\"margin:0;padding:0;text-align:left;border:0px solid red;color:#38659c;font-size:12px;\">Menarini International Operations Luxembourg, S.A.</div><div class=\"col-md-12\" style=\"margin:0;padding:0;text-align:right;border:0px solid red;color:#212121;font-size:12px;\">Update date: 30/10/2021</div><div class=\"col-md-12\" style=\"margin:0;margin-top:10px; padding:0;text-align:left;border:0px solid red;color:#11436D;font-size:12px;\">Changes: Marketing status,Others</div></div><div class=\"pull-right\">\\t\\t\\t\\t</div></div> <div class=\"media\" style=\"margin-bottom:10px;word-break: break-word\"><div class=\"media-body\"><h5 class=\"media-heading user_name\"><a style=\"cursor:pointer;font-weight:normal;\" onclick=\"medicamentoOnSelect(\\'33580\\')\">PENILEVEL 1.000.000 U.I.</a></h5><div class=\"col-md-12\" style=\"margin:0;padding:0;text-align:left;border:0px solid red;color:#38659c;font-size:12px;\">Laboratorios Ern, S.A.</div><div class=\"col-md-12\" style=\"margin:0;padding:0;text-align:right;border:0px solid red;color:#212121;font-size:12px;\">Update date: 30/10/2021</div><div class=\"col-md-12\" style=\"margin:0;margin-top:10px; padding:0;text-align:left;border:0px solid red;color:#11436D;font-size:12px;\">Changes: Others</div></div><div class=\"pull-right\">\\t\\t\\t\\t</div></div> <div class=\"media\" style=\"margin-bottom:10px;word-break: break-word\"><div class=\"media-body\"><h5 class=\"media-heading user_name\"><a style=\"cursor:pointer;font-weight:normal;\" onclick=\"medicamentoOnSelect(\\'46168\\')\">SODIOPEN 5.000.000 U.I.</a></h5><div class=\"col-md-12\" style=\"margin:0;padding:0;text-align:left;border:0px solid red;color:#38659c;font-size:12px;\">Laboratorio Reig Jofre, S.A.</div><div class=\"col-md-12\" style=\"margin:0;padding:0;text-align:right;border:0px solid red;color:#212121;font-size:12px;\">Update date: 30/10/2021</div><div class=\"col-md-12\" style=\"margin:0;margin-top:10px; padding:0;text-align:left;border:0px solid red;color:#11436D;font-size:12px;\">Changes: Others</div></div><div class=\"pull-right\">\\t\\t\\t\\t</div></div> </div>\\n\\t        <div id=\"m_ultimoscambiosvacio\" class=\"col-md-12\" style=\"margin: 0px; padding: 10px 0px 0px; text-align: justify; border: 0px solid red; color: rgb(160, 160, 160); font-size: 11px; display: none;\">No updates in the last month</div>\\n\\t\\t\\t\\n\\t\\t</div>\\n\\t\\t\\n\\t\\t\\n\\t\\t<div class=\"box3 col-md-3 col-xs-12\" style=\"border:0px solid #FF0000;padding-top:1px;margin-top:10px;\">\\n\\t\\t<div class=\"notice notice-danger\" style=\"padding-bottom:5px;\">\\n\\t\\t        <a id=\"btnVerMasDesabastecimientoTit\" style=\"cursor: pointer;\"><strong id=\"m_desabastecmiento\" style=\"color:#D33B36\">SHORTAGE</strong></a>\\n\\t\\t        <p style=\"padding:0;margin-top:20px;margin-bottom:0;text-align:right;font-size:10pt;\"><a id=\"btnVerMasDesabastecimiento\" style=\"cursor: pointer;color:#11436D;\">See more</a></p>\\n\\t\\t    </div>\\n\\t\\t\\t<div id=\"desabasResult\" class=\"comments-list hidden-xs\"><div class=\"media \" style=\"margin-bottom:2px;\"><div class=\"media-body\" style=\"border:0px solid #00ff00;padding:0;\"><h5 class=\"media-heading user_name\" style=\"margin:0;padding:0;\"><a style=\"cursor:pointer;font-weight:normal;word-break: break-word\" onclick=\"codigoOnSelect(\\'684885\\')\">MOVICOL SABOR NARANJA CONCENTRADO PARA SOLUCION ORAL , 1 frasco de 500 ml</a></h5><div class=\"col-md-12\" style=\"border:0px solid red;margin:0;padding:0;\"><div class=\"col-md-12\" style=\"margin:0;padding:0;text-align:left;border:0px solid red;color:#38659c;font-size:12px;\">National code: 684885</div><div class=\"col-md-12\" style=\"margin:0;padding:0;text-align:right;border:0px solid red;color:#212121;font-size:12px;\">Initial date: 28/10/2021</div></div></div></div><div class=\"media \" style=\"margin-bottom:2px;\"><div class=\"media-body\" style=\"border:0px solid #00ff00;padding:0;\"><h5 class=\"media-heading user_name\" style=\"margin:0;padding:0;\"><a style=\"cursor:pointer;font-weight:normal;word-break: break-word\" onclick=\"codigoOnSelect(\\'756833\\')\">MUCOSAN PEDIATRICO 3 mg/ml JARABE , 1 frasco de 200 ml</a></h5><div class=\"col-md-12\" style=\"border:0px solid red;margin:0;padding:0;\"><div class=\"col-md-12\" style=\"margin:0;padding:0;text-align:left;border:0px solid red;color:#38659c;font-size:12px;\">National code: 756833</div><div class=\"col-md-12\" style=\"margin:0;padding:0;text-align:right;border:0px solid red;color:#212121;font-size:12px;\">Initial date: 28/10/2021</div></div></div></div><div class=\"media \" style=\"margin-bottom:2px;\"><div class=\"media-body\" style=\"border:0px solid #00ff00;padding:0;\"><h5 class=\"media-heading user_name\" style=\"margin:0;padding:0;\"><a style=\"cursor:pointer;font-weight:normal;word-break: break-word\" onclick=\"codigoOnSelect(\\'653439\\')\">PENILEVEL 1.000.000 U.I., 1 vial + 1 ampolla de disolvente</a></h5><div class=\"col-md-12\" style=\"border:0px solid red;margin:0;padding:0;\"><div class=\"col-md-12\" style=\"margin:0;padding:0;text-align:left;border:0px solid red;color:#38659c;font-size:12px;\">National code: 653439</div><div class=\"col-md-12\" style=\"margin:0;padding:0;text-align:right;border:0px solid red;color:#212121;font-size:12px;\">Initial date: 28/10/2021</div></div></div></div><div class=\"media \" style=\"margin-bottom:2px;\"><div class=\"media-body\" style=\"border:0px solid #00ff00;padding:0;\"><h5 class=\"media-heading user_name\" style=\"margin:0;padding:0;\"><a style=\"cursor:pointer;font-weight:normal;word-break: break-word\" onclick=\"codigoOnSelect(\\'728324\\')\">PROMETAX 13,3 mg/24 H PARCHE TARDERMICO 60 (2 x 30) parches (multienvase)</a></h5><div class=\"col-md-12\" style=\"border:0px solid red;margin:0;padding:0;\"><div class=\"col-md-12\" style=\"margin:0;padding:0;text-align:left;border:0px solid red;color:#38659c;font-size:12px;\">National code: 728324</div><div class=\"col-md-12\" style=\"margin:0;padding:0;text-align:right;border:0px solid red;color:#212121;font-size:12px;\">Initial date: 28/10/2021</div></div></div></div><div class=\"media \" style=\"margin-bottom:2px;\"><div class=\"media-body\" style=\"border:0px solid #00ff00;padding:0;\"><h5 class=\"media-heading user_name\" style=\"margin:0;padding:0;\"><a style=\"cursor:pointer;font-weight:normal;word-break: break-word\" onclick=\"codigoOnSelect(\\'728327\\')\">PROMETAX 9,5 mg/24 H PARCHE TRANSDERMICO, 60 (2 x 30) parches (multienvase)</a></h5><div class=\"col-md-12\" style=\"border:0px solid red;margin:0;padding:0;\"><div class=\"col-md-12\" style=\"margin:0;padding:0;text-align:left;border:0px solid red;color:#38659c;font-size:12px;\">National code: 728327</div><div class=\"col-md-12\" style=\"margin:0;padding:0;text-align:right;border:0px solid red;color:#212121;font-size:12px;\">Initial date: 28/10/2021</div></div></div></div><div class=\"media \" style=\"margin-bottom:2px;\"><div class=\"media-body\" style=\"border:0px solid #00ff00;padding:0;\"><h5 class=\"media-heading user_name\" style=\"margin:0;padding:0;\"><a style=\"cursor:pointer;font-weight:normal;word-break: break-word\" onclick=\"codigoOnSelect(\\'694842\\')\">STREPSILS pastillas para chupar sabor limon, 24 pastillas</a></h5><div class=\"col-md-12\" style=\"border:0px solid red;margin:0;padding:0;\"><div class=\"col-md-12\" style=\"margin:0;padding:0;text-align:left;border:0px solid red;color:#38659c;font-size:12px;\">National code: 694842</div><div class=\"col-md-12\" style=\"margin:0;padding:0;text-align:right;border:0px solid red;color:#212121;font-size:12px;\">Initial date: 28/10/2021</div></div></div></div><div class=\"media \" style=\"margin-bottom:2px;\"><div class=\"media-body\" style=\"border:0px solid #00ff00;padding:0;\"><h5 class=\"media-heading user_name\" style=\"margin:0;padding:0;\"><a style=\"cursor:pointer;font-weight:normal;word-break: break-word\" onclick=\"codigoOnSelect(\\'704617\\')\">VESUROL 10 MG COMPRIMIDOS RECUBIERTOS CON PELICULA EFG  , 30 comprimidos</a></h5><div class=\"col-md-12\" style=\"border:0px solid red;margin:0;padding:0;\"><div class=\"col-md-12\" style=\"margin:0;padding:0;text-align:left;border:0px solid red;color:#38659c;font-size:12px;\">National code: 704617</div><div class=\"col-md-12\" style=\"margin:0;padding:0;text-align:right;border:0px solid red;color:#212121;font-size:12px;\">Initial date: 28/10/2021</div></div></div></div><div class=\"media \" style=\"margin-bottom:2px;\"><div class=\"media-body\" style=\"border:0px solid #00ff00;padding:0;\"><h5 class=\"media-heading user_name\" style=\"margin:0;padding:0;\"><a style=\"cursor:pointer;font-weight:normal;word-break: break-word\" onclick=\"codigoOnSelect(\\'704618\\')\">VESUROL 5 MG COMPRIMIDOS RECUBIERTOS CON PELICULA EFG , 30 comprimidos</a></h5><div class=\"col-md-12\" style=\"border:0px solid red;margin:0;padding:0;\"><div class=\"col-md-12\" style=\"margin:0;padding:0;text-align:left;border:0px solid red;color:#38659c;font-size:12px;\">National code: 704618</div><div class=\"col-md-12\" style=\"margin:0;padding:0;text-align:right;border:0px solid red;color:#212121;font-size:12px;\">Initial date: 28/10/2021</div></div></div></div><div class=\"media \" style=\"margin-bottom:2px;\"><div class=\"media-body\" style=\"border:0px solid #00ff00;padding:0;\"><h5 class=\"media-heading user_name\" style=\"margin:0;padding:0;\"><a style=\"cursor:pointer;font-weight:normal;word-break: break-word\" onclick=\"codigoOnSelect(\\'606249\\')\">ALPROSTADIL ALTAN 20 MICROGRAMOS POLVO PARA SOLUCION PARA PERFUSION EFG , 50 viales de 8 ml</a></h5><div class=\"col-md-12\" style=\"border:0px solid red;margin:0;padding:0;\"><div class=\"col-md-12\" style=\"margin:0;padding:0;text-align:left;border:0px solid red;color:#38659c;font-size:12px;\">National code: 606249</div><div class=\"col-md-12\" style=\"margin:0;padding:0;text-align:right;border:0px solid red;color:#212121;font-size:12px;\">Initial date: 27/10/2021</div></div></div></div><div class=\"media \" style=\"margin-bottom:2px;\"><div class=\"media-body\" style=\"border:0px solid #00ff00;padding:0;\"><h5 class=\"media-heading user_name\" style=\"margin:0;padding:0;\"><a style=\"cursor:pointer;font-weight:normal;word-break: break-word\" onclick=\"codigoOnSelect(\\'662182\\')\">IODURO (I131) DE SODIO CURIUM PHARMA SPAIN 37-7400 MBq CAPSULAS , 1 cápsula</a></h5><div class=\"col-md-12\" style=\"border:0px solid red;margin:0;padding:0;\"><div class=\"col-md-12\" style=\"margin:0;padding:0;text-align:left;border:0px solid red;color:#38659c;font-size:12px;\">National code: 662182</div><div class=\"col-md-12\" style=\"margin:0;padding:0;text-align:right;border:0px solid red;color:#212121;font-size:12px;\">Initial date: 27/10/2021</div></div></div></div><div class=\"media \" style=\"margin-bottom:2px;\"><div class=\"media-body\" style=\"border:0px solid #00ff00;padding:0;\"><h5 class=\"media-heading user_name\" style=\"margin:0;padding:0;\"><a style=\"cursor:pointer;font-weight:normal;word-break: break-word\" onclick=\"codigoOnSelect(\\'723296\\')\">NOIAFREN 20 mg COMPRIMIDOS , 20 comprimidos</a></h5><div class=\"col-md-12\" style=\"border:0px solid red;margin:0;padding:0;\"><div class=\"col-md-12\" style=\"margin:0;padding:0;text-align:left;border:0px solid red;color:#38659c;font-size:12px;\">National code: 723296</div><div class=\"col-md-12\" style=\"margin:0;padding:0;text-align:right;border:0px solid red;color:#212121;font-size:12px;\">Initial date: 27/10/2021</div></div></div></div></div>\\n\\t\\t\\t\\n\\t\\t</div>\\n\\t\\t\\n\\t\\t<div class=\"box3 col-md-3 col-xs-12\" style=\"border:0px solid #FF0000;padding-top:1px;margin-top:10px;\">\\n\\t\\t<div class=\"notice notice-md\" style=\"padding-bottom:5px;\">\\n\\t\\t        <a id=\"btnVerMasNotasseguridadTit\" href=\"https://www.aemps.gob.es/informa/notasInformativas/medicamentosUsoHumano/seguridad/home.htm\" rel=\"noreferrer\" target=\"_blank\" style=\"cursor: pointer;\"><strong id=\"m_notasseguridad\" style=\"color:#333\">DRUG SAFETY UPDATES/NOTES</strong></a>\\n\\t\\t        <p style=\"padding:0;margin-top:20px;margin-bottom:0;text-align:right;font-size:10pt;\"><a id=\"btnVerMasNotasseguridad\" href=\"https://www.aemps.gob.es/informa/notasInformativas/medicamentosUsoHumano/seguridad/home.htm\" rel=\"noreferrer\" target=\"_blank\" style=\"cursor: pointer;color:#11436D;\">See more</a></p>\\n\\t\\t    </div>\\n\\t\\t\\t<div id=\"notasResult\" class=\"comments-list hidden-xs\"><div class=\"media\" style=\"margin-bottom:10px;\"><div class=\"media-body\" style=\"border:0px solid #00ff00;\"><h5 class=\"media-heading user_name\" style=\"font-weight:normal;word-break: break-word\"><a rel=\"noreferrer\" href=\"https://www.aemps.gob.es/informa/boletines-aemps/boletin-fv/2021-boletin-fv/9o-informe-de-farmacovigilancia-sobre-vacunas-covid-19/\" target=\"_blank\">vacunas COVID-19 informe de farmacovigilancia AEMPS Nº9-octubre 2021</a></h5><div class=\"col-md-12\" style=\"border:0px solid red;margin:0;padding:0;\"><div class=\"col-md-12\" style=\"margin:0;padding:0;text-align:left;border:0px solid red;color:#38659c;font-size:12px;word-break: break-word\">Briefing note informe FV vacunas 9</div><div class=\"col-md-12\" style=\"margin:0;padding:0;text-align:right;border:0px solid red;color:#212121;font-size:12px;word-break: break-word\">Published by: 19/10/2021</div></div></div></div><div class=\"media\" style=\"margin-bottom:10px;\"><div class=\"media-body\" style=\"border:0px solid #00ff00;\"><h5 class=\"media-heading user_name\" style=\"font-weight:normal;word-break: break-word\"><a rel=\"noreferrer\" href=\"https://www.aemps.gob.es/informa/notasinformativas/medicamentosusohumano-3/seguridad-1/2021-seguridad-1/suspension-de-la-vacunacion-frente-a-la-covid-19-con-spikevax-vacuna-de-moderna-en-paises-nordicos/\" target=\"_blank\">subida CIMA nI SPIKEVAX-PAISES NORDICOS</a></h5><div class=\"col-md-12\" style=\"border:0px solid red;margin:0;padding:0;\"><div class=\"col-md-12\" style=\"margin:0;padding:0;text-align:left;border:0px solid red;color:#38659c;font-size:12px;word-break: break-word\">Briefing note MUH(FV) 17/2021</div><div class=\"col-md-12\" style=\"margin:0;padding:0;text-align:right;border:0px solid red;color:#212121;font-size:12px;word-break: break-word\">Published by: 06/10/2021</div></div></div></div><div class=\"media\" style=\"margin-bottom:10px;\"><div class=\"media-body\" style=\"border:0px solid #00ff00;\"><h5 class=\"media-heading user_name\" style=\"font-weight:normal;word-break: break-word\"><a rel=\"noreferrer\" href=\"https://www.aemps.gob.es/informa/notasinformativas/medicamentosusohumano-3/seguridad-1/2021-seguridad-1/vaxzevria-vacuna-frente-a-la-covid-19-de-astrazeneca-y-riesgo-de-trombocitopenia-inmune/\" target=\"_blank\">NOTAS INFORMATIVAS DE SEGURIDAD EN RELACIÓN CON LAS VACUNAS FRENTE A LA COVID-19</a></h5><div class=\"col-md-12\" style=\"border:0px solid red;margin:0;padding:0;\"><div class=\"col-md-12\" style=\"margin:0;padding:0;text-align:left;border:0px solid red;color:#38659c;font-size:12px;word-break: break-word\">Briefing note MUH(FV) 16-17</div><div class=\"col-md-12\" style=\"margin:0;padding:0;text-align:right;border:0px solid red;color:#212121;font-size:12px;word-break: break-word\">Published by: 06/10/2021</div></div></div></div><div class=\"media\" style=\"margin-bottom:10px;\"><div class=\"media-body\" style=\"border:0px solid #00ff00;\"><h5 class=\"media-heading user_name\" style=\"font-weight:normal;word-break: break-word\"><a rel=\"noreferrer\" href=\"https://www.aemps.gob.es/informa/notasinformativas/medicamentosusohumano-3/seguridad-1/2021-seguridad-1/vacuna-frente-a-la-covid-19-de-janssen-riesgo-de-trombocitopenia-inmune-y-tromboembolismo-venoso/\" target=\"_blank\">Vacuna frente a la COVID-19 de Janssen: riesgo de trombocitopenia inmune y tromboembolismo venoso</a></h5><div class=\"col-md-12\" style=\"border:0px solid red;margin:0;padding:0;\"><div class=\"col-md-12\" style=\"margin:0;padding:0;text-align:left;border:0px solid red;color:#38659c;font-size:12px;word-break: break-word\">Briefing note MUH (FV), 15/2021</div><div class=\"col-md-12\" style=\"margin:0;padding:0;text-align:right;border:0px solid red;color:#212121;font-size:12px;word-break: break-word\">Published by: 03/10/2021</div></div></div></div><div class=\"media\" style=\"margin-bottom:10px;\"><div class=\"media-body\" style=\"border:0px solid #00ff00;\"><h5 class=\"media-heading user_name\" style=\"font-weight:normal;word-break: break-word\"><a rel=\"noreferrer\" href=\"https://www.aemps.gob.es/informa/boletines-aemps/boletin-fv/2021-boletin-fv/8o-informe-de-farmacovigilancia-sobre-vacunas-covid-19/\" target=\"_blank\">Vacunas COVID-19 informe  de farmacovigilancia AEMPS Nº8-septiembre 2021</a></h5><div class=\"col-md-12\" style=\"border:0px solid red;margin:0;padding:0;\"><div class=\"col-md-12\" style=\"margin:0;padding:0;text-align:left;border:0px solid red;color:#38659c;font-size:12px;word-break: break-word\">Briefing note informe FV vacunas 8</div><div class=\"col-md-12\" style=\"margin:0;padding:0;text-align:right;border:0px solid red;color:#212121;font-size:12px;word-break: break-word\">Published by: 15/09/2021</div></div></div></div><div class=\"media\" style=\"margin-bottom:10px;\"><div class=\"media-body\" style=\"border:0px solid #00ff00;\"><h5 class=\"media-heading user_name\" style=\"font-weight:normal;word-break: break-word\"><a rel=\"noreferrer\" href=\"https://www.aemps.gob.es/informa/notasinformativas/medicamentosusohumano-3/seguridad-1/2021-seguridad-1/vaxzevria-y-riesgo-de-sindrome-de-guillain-barre/\" target=\"_blank\">Vaxzevria (vacuna frente a la COVID-19 de AstraZeneca) y riesgo de síndrome de Guillain-Barré</a></h5><div class=\"col-md-12\" style=\"border:0px solid red;margin:0;padding:0;\"><div class=\"col-md-12\" style=\"margin:0;padding:0;text-align:left;border:0px solid red;color:#38659c;font-size:12px;word-break: break-word\">Briefing note MUH (FV), 14/2021</div><div class=\"col-md-12\" style=\"margin:0;padding:0;text-align:right;border:0px solid red;color:#212121;font-size:12px;word-break: break-word\">Published by: 09/09/2021</div></div></div></div><div class=\"media\" style=\"margin-bottom:10px;\"><div class=\"media-body\" style=\"border:0px solid #00ff00;\"><h5 class=\"media-heading user_name\" style=\"font-weight:normal;word-break: break-word\"><a rel=\"noreferrer\" href=\"https://www.aemps.gob.es/informa/notasinformativas/medicamentosusohumano-3/seguridad-1/2021-seguridad-1/vacuna-frente-a-la-covid-19-de-janssen-y-riesgo-de-sindrome-de-guillain-barre/\" target=\"_blank\">Vacuna frente a la COVID-19 de Janssen: conclusiones de la evaluación del riesgo de trombosis junto con trombocitopenia</a></h5><div class=\"col-md-12\" style=\"border:0px solid red;margin:0;padding:0;\"><div class=\"col-md-12\" style=\"margin:0;padding:0;text-align:left;border:0px solid red;color:#38659c;font-size:12px;word-break: break-word\">Briefing note MUH (FV), 07/2021</div><div class=\"col-md-12\" style=\"margin:0;padding:0;text-align:right;border:0px solid red;color:#212121;font-size:12px;word-break: break-word\">Published by: 06/09/2021</div></div></div></div></div>\\n\\t\\t\\t\\n\\t\\t</div>\\n\\t</div>\\n\\t\\t\\n</div>\\n</div>\\n\\n<div class=\"boxpuser\">\\n\\n\\t<div class=\"container \">\\n\\t\\t<div class=\"col-md-12 col-xs-12\" style=\"padding-top:100px;padding-bottom: 40px;\">\\n\\t\\t\\t<div class=\"col-md-6  col-xs-12\">\\n\\t\\t\\t\\t<h1 id=\"m_registro\">Register as user to...</h1>\\t\\n\\t\\t\\t\\t<br>\\n\\t\\t\\t    <button id=\"btnRegistroAhora\" type=\"button\" class=\"btn btn-danger\" style=\"margin-top:20px;margin-bottom:40px;\" onclick=\"location.href=\\'loginregistro.html\\'\">Register now</button>\\n\\t\\t\\t</div>\\n\\t\\t\\t<div class=\"col-md-6 col-xs-12\">\\n\\t\\t\\t\\t<div class=\"row\">\\n\\t\\t\\t\\t\\t<div class=\"col-md-2 col-xs-2 \">\\n\\t\\t\\t\\t\\t\\t<i class=\"fa fa-check fa-2x\" style=\"color:white\"></i>\\n\\t\\t\\t\\t\\t</div>\\n\\t\\t\\t\\t\\t<div class=\"col-md-10 col-xs-10\">\\n\\t\\t\\t\\t\\t\\t<h4 id=\"m_guardafavoritos\" style=\"text-align: left;color:white\">Save your favourite medicines/Bookmark medicines</h4>\\n\\t\\t\\t\\t\\t\\t<p id=\"m_subguardafavoritos\" style=\"text-align: left;color:#d6d6d6\">Create your own list of medicines and receive notifications</p>\\n\\t\\t\\t\\t\\t</div>\\n\\t\\t\\t\\t</div>\\n\\t\\t\\t\\t<div class=\"row\" style=\"margin-top:10px;\">\\n\\t\\t\\t\\t\\t<div class=\"col-md-2 col-xs-2\">\\n\\t\\t\\t\\t\\t\\t<i class=\"fa fa-check fa-2x\" style=\"color:white\"></i>\\n\\t\\t\\t\\t\\t</div>\\n\\t\\t\\t\\t\\t<div class=\"col-md-10 col-xs-10\">\\n\\t\\t\\t\\t\\t\\t<h4 id=\"m_exportabusquedas\" style=\"text-align: left;color:white\">Save searches</h4>\\n\\t\\t\\t\\t\\t\\t<p id=\"m_subexportabusquedas\" style=\"text-align: left;color:#d6d6d6\">Save time by saving frequently run searches</p>\\n\\t\\t\\t\\t\\t</div>\\n\\t\\t\\t\\t</div>\\t\\n\\t\\t\\t\\t<div class=\"row\" style=\"margin-top:10px;\">\\n\\t\\t\\t\\t\\t<div class=\"col-md-2 col-xs-2\">\\n\\t\\t\\t\\t\\t\\t<i class=\"fa fa-check fa-2x\" style=\"color:white\"></i>\\n\\t\\t\\t\\t\\t</div>\\n\\t\\t\\t\\t\\t<div class=\"col-md-10 col-xs-10\">\\n\\t\\t\\t\\t\\t\\t<h4 id=\"m_compartirotros\" style=\"text-align: left;color:white\">Share with others</h4>\\n\\t\\t\\t\\t\\t\\t<p id=\"m_subcompartirotros\" style=\"text-align: left;color:#d6d6d6\">Send direct links of your favourite medicines or saved searches to your contacts</p>\\n\\t\\t\\t\\t\\t</div>\\n<span id=\"quees\"></span><!-- Se coloca el ancla aquí para que se vea bien en pantalla  -->\\n\\t\\t\\t\\t</div>\\n\\t\\t\\t</div>\\n\\t\\t</div>\\n\\n\\t</div>\\n</div>\\n\\n<div id=\"queescima\">\\n\\t\\t<div class=\"box2p\">\\n\\t\\t<div class=\"title\">\\n\\t\\t\\t<h1 id=\"m_tituloqueescima\">What is CIMA?</h1>\\n\\t\\t\\t<p id=\"m_centroinformacion\">Medicine Online Information Center of AEMPS - CIMA</p>\\n\\t\\t</div>\\n\\t\\t<div class=\"container \" style=\"padding:0;padding-bottom: 60px;\">\\n\\t\\t\\t<div class=\"col-md-12 col-xs-12\" style=\"padding:5px;\">\\n\\t\\t\\t\\t<div class=\"col-md-6 col-xs-12\" style=\"padding:15px;\">\\n\\t\\t\\t\\t\\t<div class=\"col-md-12 col-xs-12\">\\n\\t\\t\\t\\t\\t\\t<h6 id=\"m_queescimasub1\">Application for performing searchings with different criteria, so that different information level details of medicines are available</h6>\\n\\t\\t\\t\\t\\t</div>\\n\\t\\t\\t\\t\\t<div class=\"col-md-12 col-xs-12\">\\n\\t\\t\\t\\t\\t\\t<h6 id=\"m_queescimasub2\">Displayed information makes reference to medicine availability in community services and/or pharmacy services, as well as details of the authorisation and marketing status and possible supply problems.</h6>\\n\\t\\t\\t\\t\\t</div>\\n\\t\\t\\t\\t\\t<div class=\"col-md-12 col-xs-12\">\\n\\t\\t\\t\\t\\t\\t<h6 id=\"m_queescimasub3\">All interesting medicine characteristics are associated to the medicinal product. They are displayed along with the leaflet, summary of product characteristics and the rest of necessary information of a medicine.</h6>\\n\\t\\t\\t\\t\\t</div>\\n\\t\\t\\t\\t\\t<div class=\"col-md-12 col-xs-12\">\\n\\t\\t\\t\\t\\t\\t<h6 id=\"m_queescimasub4\">Press<a style=\"cursor:pointer\" href=\"https://www.aemps.gob.es/industria/etiquetado/docs/Infografia-envase-medicamento.pdf\" rel=\"noreferrer\" target=\"_blank\"> here</a> To download the brochure of information and symbols appearing in the mockups.</h6>\\n\\t\\t\\t\\t\\t</div>\\n\\t\\t\\t\\t\\t<div class=\"col-md-12 col-xs-12\">\\t\\n\\t\\t\\t\\t\\t\\t<h6 id=\"m_queescimasub5\">For queries related to CIMA, use some of the published media in<a style=\"cursor:pointer\" data-toggle=\"modal\" data-target=\"#contacto\"> Contact us</a>. Medical consultations will not be handled.</h6>\\n\\t\\t\\t\\t\\t</div>\\n\\t\\t\\t\\t\\t<div class=\"col-md-12 col-xs-12\">\\t\\n\\t\\t\\t\\t\\t\\t<h6 id=\"m_queescimasub6\">Visit <a style=\"cursor:pointer\" href=\"https://www.aemps.gob.es/informa/info-atencion-ciudadano/home.htm\" rel=\"noreferrer\" target=\"_blank\"> this link</a> for other queries related to AEMPS.</h6>\\n\\t\\t\\t\\t\\t</div>\\n\\t\\t\\t\\t</div>\\n\\t\\t\\t\\t<div class=\"col-md-6 col-xs-12\" style=\"padding:0;\">\\n\\t\\t\\t\\t\\t<img alt=\"dispositivos\" src=\"../resources/images/devices.png\" width=\"95%\">\\n\\t\\t\\t\\t</div>\\n\\t\\t\\t</div>\\n\\t\\t</div>\\n</div>\\n</div>\\n\\n<div class=\"box2p\">\\n\\t<div class=\"container\" style=\"padding:0;padding-bottom: 60px;text-align: center;\">\\n\\t<div>\\n\\t   \\t<div class=\"boxphoto2\">\\n\\t   \\t\\t<a style=\"cursor:pointer\" href=\"https://www.aemps.gob.es/apps/cima/docs/medicamentosygluten.pdf\" target=\"_blank\" rel=\"noopener\">\\n\\t            <img alt=\"gluten\" src=\"../resources/images/gluten.png\" width=\"30%\">\\n\\t            <h4 id=\"m_medsingluten\" style=\"text-align:center;margin-left:12px;font-size:15px;\">Medicines and gluten</h4>\\n\\t            </a>\\n\\t      </div>\\t      \\t      \\n\\t      <div class=\"boxphoto2\">\\n\\t      \\t<a style=\"cursor:pointer\" href=\"tutorialprospecto.html\">\\n\\t            <img alt=\"ear\" src=\"../resources/images/sordo_icon2.png\" width=\"30%\">\\n\\t\\t\\t\\t<h4 id=\"m_infoprospecto\" style=\"text-align:center;margin-left:12px;font-size:15px;\">Leaflet info.</h4>\\n\\t\\t\\t</a>\\n\\t      </div>\\n\\t      \\n\\t      <div class=\"boxphoto2 \">\\n\\t      \\t<a style=\"cursor:pointer\" href=\"https://www.aemps.gob.es/industria/etiquetado/docs/Infografia-envase-medicamento.pdf\" rel=\"noreferrer\" target=\"_blank\">\\n\\t            <img alt=\"infografia\" src=\"../resources/images/infografiaLogo.png\" width=\"30%\">\\n\\t\\t\\t\\t<h4 id=\"m_infografia\" style=\"text-align:center;margin-left:12px;font-size:15px;\">Labeled info</h4>\\n\\t\\t\\t</a>\\n\\t      </div>\\n\\t      \\n\\t      <div class=\"boxphoto2 \">\\n\\t      \\t<a style=\"cursor:pointer\" data-toggle=\"modal\" data-target=\"#contacto\">\\n\\t            <img alt=\"mail\" src=\"../resources/images/mail2.png\" width=\"30%\">\\n\\t\\t\\t\\t<h4 id=\"m_contacto\" style=\"text-align:center;margin-left:12px;font-size:15px;\">Contact us</h4>\\n\\t\\t\\t</a>\\n\\t      </div>\\n\\t </div>\\n\\t</div>\\n</div>\\n\\n<div id=\"dialogerror\"></div>\\n\\n<!-- <a id=\"back-to-top\" href=\"#\" class=\"btn btn-primary btn-lg back-to-top\" role=\"button\" title=\"Click to return on the top page\" data-toggle=\"tooltip\" data-placement=\"left\"><i class=\"fa fa-chevron-up\" aria-hidden=\"true\"></i></a> -->\\n\\n<footer id=\"footer\"><!-- <script type=\"text/javascript\" src=\"../resources/js/loadingoverlay.min.js\"></script>-->\\n<div class=\"last\">\\n<a id=\"back-to-top\" href=\"#\" class=\"btn btn-primary btn-lg back-to-top\" role=\"button\" style=\"background-color: rgba(51, 122, 183, 0.7);border-color: rgba(51, 122, 183, 0.7);\" data-toggle=\"tooltip\" data-placement=\"left\"><i class=\"fa fa-chevron-up\" aria-hidden=\"true\"></i></a>\\n\\t\\t<div class=\"container \" style=\"padding:0;padding-bottom: 60px;\">\\n\\t\\t\\t<div class=\"col-md-12 col-xs-12\" style=\"padding:5px;\">\\n\\t\\t\\t\\t<div class=\"col-md-6 col-xs-6\" style=\"padding:15px;text-align:left\">\\n\\t\\t\\t\\t<div class=\"combo social lalign \">\\n\\t\\t\\t\\t\\t   <a style=\"font-size:15px;color: #fff\"><i class=\"fa fa-envelope icons-detail\"></i><span id=\"m_contactodesc\" style=\"margin-left:20px;\">Contact with CIMA support</span></a><a style=\"cursor:pointer;color:#FFD9B3;font-size:16px;\" target=\"_blank\" href=\"https://servicedesk.aemps.es/servicedesk/customer/portal/2\"><span id=\"pulseaqui\">here</span></a>\\t\\t\\t\\t\\n\\t\\t\\t\\t\\t\\t<p id=\"m_sugerenciacontacto\" style=\"color:#FFD9B3;margin-top:20px;font-size:15px\">Notice: For non-CIMA queries please access here</p>\\n\\t\\t\\t\\t\\t\\t<a style=\"color:#D4E6F2;font-size:15px\" href=\"https://www.aemps.gob.es/informa/info-atencion-ciudadano/home.htm\" rel=\"noreferrer\" target=\"_blank\">https://www.aemps.gob.es/informa/info-atencion-ciudadano/home.htm</a>\\n\\t\\t\\t\\t\\t</div>\\n\\n\\t\\t\\t\\t</div>\\n\\t\\t\\t\\t<div class=\"col-md-6 col-xs-12\" style=\"padding:15px;\">\\n\\t\\t\\t\\t\\t<div class=\"col-md-12 col-xs-12 ralign\" style=\"padding:0;\">\\n\\t\\t\\t\\t\\t\\t<div class=\"combo ralign social\">\\n\\t\\t\\t\\t\\t\\t\\t<a id=\"m_acercadeaemps\" class=\"nav-link active\" href=\"https://www.aemps.gob.es/home.htm\" rel=\"noreferrer\" target=\"_blank\">About AEMPS</a>\\n\\t\\t\\t\\t\\t\\t\\t<a id=\"m_avisolegal\" name=\"Aviso legal\" alt=\"Aviso Legal\" class=\"nav-link active\" href=\"https://www.aemps.gob.es/avisoLegal/home.htm\" rel=\"noreferrer\" target=\"_blank\">Legal notice/Legal policy</a>\\n\\t\\t\\t\\t\\t\\t\\t<a id=\"m_atencionciudadano\" class=\"nav-link active\" href=\"https://www.aemps.gob.es/informa/info-atencion-ciudadano/home.htm\" rel=\"noreferrer\" target=\"_blank\">Customer service</a>\\n\\t\\t\\t\\t\\t\\t</div>\\n\\t\\t\\t\\t\\t</div>\\n\\t\\t\\t\\t\\t<div class=\"col-md-12 col-xs-12\" style=\"padding-top:20px;\">\\n\\t\\t\\t\\t\\t\\t<div class=\"combo ralign social\">\\n\\t\\t\\t\\t\\t\\t\\t<img class=\"imgphone\" onclick=\"window.open(\\'https://play.google.com/store/apps/details?id=com.aventia.cimamobile\\',\\'\\');\" style=\"cursor:pointer;\" src=\"../resources/images/googleplay.svg\" title=\"Aplicación móvil AEMPS CIMA, consíguelo en el Google Play(abre en ventana nueva)\" width=\"24%\">\\n\\t\\t\\t\\t\\t\\t\\t<img class=\"imgphone\" onclick=\"window.open(\\'https://itunes.apple.com/es/app/aempscima/id783571602?mt=8\\',\\'\\');\" style=\"cursor:pointer;\" src=\"../resources/images/appstore.svg\" title=\"Aplicación móvil AEMPS CIMA, consíguelo en el App Store (abre en ventana nueva)\" width=\"25%\">\\n\\t\\t\\t\\t\\t\\t</div>\\n\\t\\t\\t\\t\\t</div>\\t\\n\\t\\t\\t\\t</div>\\n\\t\\t\\t</div>\\n\\t\\t\\t<div class=\"col-md-12 col-xs-12\" style=\"padding-left:20px;\">\\n\\t\\t\\t\\t<div class=\"col-md-6 col-xs-12 lalign\" style=\"padding:0;\">\\n\\t\\t\\t\\t\\t<div class=\"combo lalign \">\\n\\t\\t\\t\\t\\t\\t<p id=\"m_copyright\">Copyright @ 2017 Agencia Española de Medicamentos y Productos Sanitarios</p><p id=\"version\">v.3.3.11</p><p></p>\\n\\t\\t\\t\\t\\t</div>\\n\\t\\t\\t\\t</div>\\n\\t\\t\\t\\t<div class=\"col-md-6 col-xs-12 lalign\" style=\"padding:0;\">\\n\\t\\t\\t\\t\\t<div class=\"col-md-4 col-xs-12 ralign\" style=\"padding:0;\">\\n\\t\\t\\t\\t\\t\\t<a style=\"cursor:pointer\" href=\"https://www.boe.es/diario_boe/txt.php?id=BOE-A-2016-6120\" rel=\"noreferrer\" target=\"_blank\"><img class=\"accesit\" id=\"imgaccesit\" src=\"../resources/images/logoaccesit.png\" width=\"35%\" title=\"State Agency for the evaluation of public policies and the quality of services\"></a><a></a>\\n\\t\\t\\t\\t\\t</div>\\n\\t\\t\\t\\t\\t<div class=\"col-md-8 col-xs-12 ralign\" style=\"padding:0;\">\\n\\t\\t\\t\\t\\t\\t<div class=\"combo\">\\n\\t\\t\\t\\t\\t\\t\\t<a id=\"accesiturl\" style=\"cursor:pointer;color: white; \" href=\"https://www.boe.es/diario_boe/txt.php?id=BOE-A-2016-6120\" rel=\"noreferrer\" target=\"_blank\">CIMA and its mobile version (AempsCIMA) have received the runner-up in the category of Citizenship Award.</a>\\n\\t\\t\\t\\t\\t\\t\\t<p id=\"accesittext\">Awards for quality and innovation in public management granted by the AEVAL.</p>\\n\\t\\t\\t\\t\\t\\t</div>\\n\\t\\t\\t\\t\\t\\t<br>\\n\\t\\t\\t\\t\\t\\t<div class=\"combo ralign social\">\\n\\t\\t\\t\\t\\t\\t\\t<br>\\n\\t\\t\\t\\t\\t\\t</div>\\n\\t\\t\\t\\t\\t</div>\\t\\t\\t\\t\\t\\n\\t\\t\\t\\t</div>\\t\\t\\t\\t\\n\\t\\t\\t</div>\\t\\t\\t\\n\\t</div>\\n</div></footer>\\n\\n\\n\\n<div class=\"loadingoverlay\" style=\"z-index: 10; background-color: rgba(255, 255, 255, 0.8); background-image: url(&quot;../resources/images/loading.gif&quot;); background-position: center center; background-repeat: no-repeat; position: fixed; top: 0px; left: 0px; width: 100%; height: 100%;\"></div></body></html>'"
            ]
          },
          "metadata": {},
          "execution_count": 69
        }
      ]
    },
    {
      "cell_type": "code",
      "metadata": {
        "colab": {
          "base_uri": "https://localhost:8080/"
        },
        "id": "kPyU6qMDOnXZ",
        "outputId": "7c4aa0ef-e99f-4167-ec0e-ff0187a49060"
      },
      "source": [
        "# References: https://devqa.io/selenium-css-selectors/ \n",
        "# Search a specific medicine\n",
        "med_81012 = driver.find_element(By.CSS_SELECTOR, \"div[onclick=\\\"medicamentoOnSelect('81012')\\\"]\")\n",
        "med_81012.click()\n",
        "print(driver.page_source)"
      ],
      "execution_count": null,
      "outputs": [
        {
          "output_type": "stream",
          "name": "stdout",
          "text": [
            "<html lang=\"es\"><head>\n",
            "    <meta charset=\"utf-8\">\n",
            "    <meta http-equiv=\"X-UA-Compatible\" content=\"IE=edge\">\n",
            "    <meta name=\"viewport\" content=\"width=device-width, initial-scale=1\">\n",
            "    <meta name=\"author\" content=\"Agencia Española de Medicamentos y Productos Sanitarios\">\n",
            "    <meta name=\"”robots”\" content=\"index,follow\">\n",
            "\n",
            "    <title>.:: CIMA ::. Detalle del medicamento...</title>\n",
            "\n",
            "    <!-- Bootstrap Core CSS - Uses Bootswatch Flatly Theme: http://bootswatch.com/flatly/ -->\n",
            "\t<link href=\"../resources/bootstrap3.3.7/css/bootstrap.min.css\" rel=\"stylesheet\">\n",
            "\n",
            "\t<link id=\"favicon\" rel=\"shortcut icon\" href=\"../resources/images/favicon.ico\">\n",
            "    <!-- Custom CSS -->\n",
            "    <link href=\"../resources/css/cima.css\" rel=\"stylesheet\">\n",
            "    <link href=\"../resources/css/detalle.css\" rel=\"stylesheet\">\n",
            "\n",
            "    <!-- Custom Fonts -->\n",
            "\t<link href=\"../resources/font-awesome-4.7.0/css/font-awesome.min.css\" rel=\"stylesheet\" type=\"text/css\">\n",
            "    <link href=\"https://fonts.googleapis.com/css?family=Montserrat:400,700\" rel=\"stylesheet\" type=\"text/css\">\n",
            "    <link href=\"https://fonts.googleapis.com/css?family=Lato:400,700,400italic,700italic\" rel=\"stylesheet\" type=\"text/css\">\n",
            "    \t\n",
            "    <script type=\"text/javascript\" async=\"\" src=\"https://www.google-analytics.com/plugins/ua/linkid.js\"></script><script async=\"\" src=\"https://www.google-analytics.com/analytics.js\"></script><script type=\"text/javascript\" src=\"../resources/js/jquery-3.1.1.min.js\"></script>\n",
            "\t<script type=\"text/javascript\" src=\"../resources/bootstrap3.3.7/js/bootstrap.min.js\"></script>\t\n",
            "\t\n",
            "\t<script type=\"text/javascript\" src=\"../resources/js/loadingoverlay.min.js\"></script>\n",
            "\t<script type=\"text/javascript\" src=\"../resources/js/jquery-dateFormat.min.js\"></script>\n",
            "\t<script type=\"text/javascript\" src=\"../resources/js/mensajes.js\"></script>\n",
            "\t<script type=\"text/javascript\" src=\"../resources/js/errordialog.js\"></script>\n",
            "\t<script type=\"text/javascript\" src=\"../resources/js/setuptoken.js\"></script>\n",
            "\t<script type=\"text/javascript\" src=\"../resources/js/header.js\"></script>\n",
            "\t<script type=\"text/javascript\" src=\"../resources/js/excel.js\"></script>\n",
            "\t<script type=\"text/javascript\" src=\"../resources/js/footer.js\"></script>\n",
            "\t<script type=\"text/javascript\" src=\"../resources/js/detalle.js\"></script>\n",
            "\t\n",
            "</head>\n",
            "\n",
            "<body id=\"page-top\" class=\"index\">\n",
            "\n",
            "<div class=\"banner\" id=\"header2\" style=\"position:fixed; z-index: 10; \">\n",
            "\t\n",
            "\t\t<div class=\"col-md-12  textmenutop\" style=\"z-index: 2;\">\n",
            "\t \t<nav class=\"navbar navbar-default \" style=\"background-color:transparent;border-color:transparent\">\n",
            "\t \t\n",
            "\t \t\t\t<div class=\"idioma_desk right\" style=\"border:0px solid red\">\n",
            "\t\t\t \t<ul class=\"nav navbar-nav navbar-right textmenulangG\">\n",
            "\t\t\t \t\t<li><a class=\"m_esp\" onclick=\"cambiarIdioma('es');\" style=\"color:#337ab7;text-shadow: 0px 0px 0px #1e1e1e;font-size:9px\">Español</a></li>\n",
            "\t                <li><a class=\"m_ingles\" onclick=\"cambiarIdioma('en');\" style=\"color:#337ab7;text-shadow: 0px 0px 0px #1e1e1e;font-size:9px\">English</a></li>\n",
            "\t\t\t \t</ul>\n",
            "\t\t\t \t</div>\n",
            "\t \t\n",
            "\t\t\t <!-- Brand and toggle get grouped for better mobile display -->\n",
            "            <div class=\"navbar-header\">\n",
            "                <button type=\"button\" class=\"navbar-toggle\" data-toggle=\"collapse\" data-target=\"#bs-example-navbar-collapse-2\" style=\"border-color:#38659c;background-color:rgba(255, 255, 255, 0.4);\">\n",
            "                    <span class=\"sr-only\">Toggle navigation</span>\n",
            "                    <span class=\"icon-bar\" style=\"background-color:#38659c\"></span>\n",
            "                    <span class=\"icon-bar\" style=\"background-color:#38659c\"></span>\n",
            "                    <span class=\"icon-bar\" style=\"background-color:#38659c\"></span>\n",
            "                </button>     \n",
            "            <div class=\"col-md-10 col-sm-10 col-xs-8 navbarimage\">\n",
            "            \t<a class=\"cabimg1\" href=\"http://www.msc.es\" rel=\"noreferrer\" target=\"_blank\"><img alt=\"aemps\" class=\"img-responsive2\" src=\"https://www.aemps.gob.es/diseno/img/logo_Ministerio.jpg\" style=\"cursor:pointer;display:inline\"></a>\n",
            "            \t<a class=\"cabimg2\" href=\"https://www.aemps.gob.es/\" rel=\"noreferrer\" target=\"_blank\"><img alt=\"aemps\" class=\"img-responsive2\" src=\"https://www.aemps.gob.es/diseno/img/logo_aemps.jpg\" style=\"cursor:pointer;display:inline;\"></a>\n",
            "\t\t\t\t<img alt=\"cima\" class=\"img-responsive3\" src=\"../resources/images/CimaTranspaPeq.gif\" onclick=\"location.href='../publico/home.html'\" style=\"cursor:pointer;display:inline\">\t\t\t\t\n",
            "\t\t\t</div>           \n",
            "            </div>\t\n",
            "\t\t\t\n",
            "\t\t\t <div class=\"collapse navbar-collapse menutopnew\" id=\"bs-example-navbar-collapse-2\" style=\"height:1px;border-color:transparent;border-radius: 5px;\">\n",
            "\t\t\t \t<ul class=\"nav navbar-nav navbar-right headerLinks\">\t\n",
            "\t\t\t \t\t<li class=\"idioma_device\">\t\t\t\t \t\n",
            "\t\t\t\t \t\t<a class=\"m_esp dev_lang_es\" onclick=\"cambiarIdioma('es');\">Español</a>\n",
            "\t\t                <a class=\"m_ingles dev_lang_en\" onclick=\"cambiarIdioma('en');\">English</a>\t\t\t\t \t\n",
            "\t\t\t\t \t</li>\t\t \t\n",
            "                \t<li><a class=\"active2 m_queescima\" href=\"../publico/home.html#quees\">What is CIMA?</a></li>\n",
            "                \t<li><a class=\"active2 m_nomenclator\" href=\"../publico/nomenclator.html\">Nomenclator</a></li>\n",
            "                \t<li><a class=\"active2 m_glosario\" href=\"../publico/glosario.html\" \"=\"\">Glossary</a></li>\n",
            "                \t<li><button id=\"m_accesousuarios2\" type=\"button\" class=\"btn btn-danger btn-sm\" style=\"margin-top:10px;margin-left:10px\" onclick=\"location.href='loginregistro.html'\">Log in</button></li>\n",
            "                \t<li><button id=\"m_perfilusuario2\" type=\"button\" class=\"btn btn-danger btn-sm\" style=\"margin-top: 10px; margin-left: 10px; display: none;\" onclick=\"location.href='../privado/usuario.html'\"><i class=\"fa fa-user\" style=\"font-size:17px;margin-right:10px\"></i></button></li>\n",
            "                </ul>            \n",
            "\t\t\t</div>\n",
            "\t\t</nav>\n",
            "\n",
            "\t</div>\n",
            "\t</div>\n",
            "\n",
            "<!-- INICIO BOX -->\n",
            "<div class=\"boxlist\">\n",
            "\n",
            "\t<!-- INICIO CONTAINER -->\n",
            "\t<div class=\"container\">\n",
            "\t\n",
            "\t\t<!-- INICIO ROW -->\n",
            "\t\t<div class=\"row\">\n",
            "\t\t\n",
            "\t\t\t<!-- NOMBRE DEL MEDICAMENTO -->\n",
            "\t\t\t<div class=\"col-md-12 col-sm-12 col-xs-12 titulomed lastlist\">\n",
            "\t\t\t\t<h1 id=\"nombreMedicamento\" class=\"\"></h1>\t\t\t\t\t\t\t\t\t\n",
            "\t\t\t</div>\n",
            "\t\t\t\n",
            "\t\t\t<!-- NO EXISTE -->\n",
            "\t\t\t<div id=\"noExisteBloque\" class=\"col-md-12 col-sm-12 col-xs-12 titulomed lastlist\" style=\"display:none\">\n",
            "\t\t\t\t<h1 id=\"noExisteTexto\"></h1>\t\t\t\t\t\t\t\t\t\n",
            "\t\t\t</div>\n",
            "\t\t\t\n",
            "\t\t\t<!-- CUERPO DEL MEDICAMENTO -->\n",
            "\t\t\t<div class=\"col-md-12 col-sm-12 col-xs-12\" style=\"padding:0;margin:0;\">\n",
            "\t\t\t\t\n",
            "\t\t\t\t<div style=\"margin:0;padding:0;\">\n",
            "\t\t\t\t\t <div class=\"list-group\">\n",
            "\t\t\t\t\t \t\t<div class=\"list-group-item row\" style=\"border:0px solid #FF0000;\">\n",
            "\n",
            "\t\t\t\t\t\t\t\t\t<!-- Nº REGISTRO, FOTO Y ESTADO EN LG Y MD -->\n",
            "\t\t\t\t\t \t\t\t\t<div class=\"col-lg-3 col-md-4 hidden-sm hidden-xs\" style=\"padding:10px 1px;;border-left:0px dotted #5385c1;\">\n",
            "\t\t\t\t\t \t\t\t\t\t<div id=\"numregistro\" class=\"col-lg-12 col-md-12 col-sm-12 col-xs-12 list-group-item-text\" style=\"padding:0;padding-top:12px;text-align:center;\"></div>\n",
            "\t\t\t\t\t\t \t\t\t\t<div id=\"boxnumregistro\" class=\"col-lg-12 col-md-12 col-sm-12 hidden-xs boxnumregistrobig\">\t\t\t\t\t\t \t\t\t\t\n",
            "\t\t\t\t \t\t\t\t\t\t\t<div class=\"col-lg-12 col-md-12 col-sm-12 col-xs-12 autorizado\" style=\"font-size:9pt;padding:0;margin:0;text-align:center;\"><h2 id=\"estado\"></h2></div>\n",
            "\t\t\t\t \t\t\t\t\t\t\t<div class=\"col-lg-12 col-md-12 col-sm-12 col-xs-12 autorizado\" style=\"font-size:9pt;padding:0;margin:0;text-align:center;\"><h2 id=\"estadosec\"></h2></div>\n",
            "\t\t\t\t\t\t\t\t\t\t\t<div class=\"col-lg-12 col-md-12 col-sm-12 col-xs-12 comercializado\" style=\"font-size:9pt;padding:0;margin:5px 0;text-align:center;\"><h3 id=\"estadocomerc\" style=\"font-size:8pt;\"></h3></div>\n",
            "\t\t\t\t\t\t \t\t\t\t</div>\n",
            "\t\t\t\t\t\t \t\t\t\t<div class=\"col-lg-12 col-md-12 col-sm-12 hidden-xs\" style=\"padding:0;border:0px solid #FF0000;\">\n",
            "\t\t\t\t\t\t\t \t\t\t\t<!-- notas en lg y md-->\n",
            "\t\t\t\t\t\t\t \t\t\t\t\t<span id=\"notasancla\" style=\"heigth:1px\">&nbsp;</span>\n",
            "\t\t\t\t\t\t\t \t\t\t\t<div id=\"gruponotas\" class=\"col-lg-12 col-md-12 col-sm-12 col-xs-12 list-group-item-peq\" style=\"padding: 15px 1px 40px; display: none;\">\n",
            "\t\t\t\t\t\t\t \t\t\t\t\n",
            "\t\t\t\t\t\t\t \t\t\t\t\t\t<div class=\"col-lg-12 col-md-12 col-sm-12 col-xs-12 list-group-item row\" style=\"padding:0px 1px;border:0px solid #FF0000;\">\n",
            "\t\t\t\t\t\t\t\t\t\t\t\t\t\t<div class=\"col-lg-12 col-md-12 col-sm-12 col-xs-12 \" style=\"padding:0;margin:0;margin-bottom:5px;text-align:center\">\n",
            "\t\t\t\t\t\t\t\t\t\t\t \t\t\t\t<div class=\"col-lg-12 col-md-12 col-sm-12 col-xs-12 \" style=\"padding:0;margin:0;\"><b id=\"m_notasmat\"><img alt=\"info\" style=\"vertical-align: text-top;padding-right: 10px;height:15px;\" src=\"../resources/images/icono_Info.png\">Notes</b></div>\n",
            "\t\t\t\t\t\t\t\t\t\t\t\t\t\t</div>\n",
            "\t\t\t\t\t\t\t\t\t\t \t\t\t\t<ul id=\"bodyNotas\" class=\"notes \"></ul>\n",
            "\t\t\t\t\t\t\t\t\t \t\t\t\t</div>\n",
            "\t\t\t\t\t\t\t \t\t\t\t\n",
            "\t\t\t\t\t\t\t \t\t\t\t</div>\n",
            "\t\t\t\t\t\t \t\t\t\t\t<div id=\"boxImages\" class=\"col-lg-12 col-md-12 col-sm-12 col-xs-12 list-group-item-text\" style=\"border-top:0px dotted #5385c1;border-bottom:0px dotted #5385c1;display:inline-flex;text-align:center;\">\n",
            "\t\t\t\t\t\t\t\t\t\t\t\t\n",
            "\t\t\t\t\t\t \t\t\t\t\t</div>\n",
            "\t\t\t\t\t\t \t\t\t\t\t\n",
            "\t\t\t\t\t\t \t\t\t\t\t\n",
            "\t \t\t\t \t\t\t\t\t\t\t<div id=\"boxpsum\" class=\"col-lg-12 col-md-12 col-sm-12 col-xs-12 \" style=\"font-size:9pt;padding:0;margin:5px 0;text-align:center;text-transform:uppercase;\"><b id=\"buttonPsum\"></b></div>\n",
            "<!-- \t\t\t\t \t\t\t\t\t\t\t<div class=\"col-lg-12 col-md-12 col-sm-12 col-xs-12 \" style=\"font-size:9pt;padding:0;margin:5px 0;text-align:center;text-transform:uppercase;\"><b id=\"buttonHuerfano\"></b></div> -->\n",
            "<!-- \t\t\t\t \t\t\t\t\t\t\t<div class=\"col-lg-12 col-md-12 col-sm-12 col-xs-12 \" style=\"font-size:9pt;padding:0;margin:5px 0;text-align:center;text-transform:uppercase;\"><b id=\"buttonBiosimilar\"></b></div> -->\n",
            "\t\t\t\t\t\t \t\t\t\t</div>\n",
            "\t\t\t\t\t \t\t\t\t</div>\n",
            "\t\t\t\t\t \t\t\t\t\n",
            "\t\t\t\t\t \t\t\t\t<div class=\"hidden-lg hidden-md col-sm-12 col-xs-12\" style=\"padding:0;margin:0;text-align:right;border:0px solid red;\">\n",
            "\t\t\t\t\t\t\t\t \t\t\t\t<div class=\"col-md-12 \" role=\"toolbar\" aria-label=\"Toolbar with button groups\" style=\"align:right;padding:0;margin:0;\">\n",
            "\t\t\t\t\t\t\t\t\t\t\t\t  <div id=\"boxbuttons\" class=\"col-lg-12 col-md-12 col-sm-12 col-xs-12 btn-group\" style=\"padding:0;margin:0;align:right;\"></div>\n",
            "\t\t\t\t\t\t\t\t\t\t\t\t</div>\n",
            "\t\t\t\t\t\t\t\t\t\t</div>\n",
            "\n",
            "\t\t\t\t\t\t\t\t\t<!-- DETALLE DEL MEDICAMENTO -->\n",
            "\t\t\t\t\t \t\t\t\t<div id=\"detalleMedicamento\" class=\"col-lg-9 col-md-8 col-sm-12 col-xs-12\" style=\"padding:2px;border-left:0px dotted #5385c1;\">\n",
            "\t\t\t\t\t\t\t\t\t\t\n",
            "\t\t\t\t\t\t\t\t\t\t<!-- Laboratorio y botonera en lg y md-->\n",
            "\t\t\t\t\t\t\t\t\t\t<div class=\"col-lg-12 col-md-12 hidden-sm hidden-xs\" style=\"padding:20px 0px;border:0px solid red;\">\n",
            "\t\t\t\t\t\t\t \t\t\t\t<div class=\"col-lg-5 col-md-5 col-sm-12 col-xs-12\" style=\"padding:0;margin:0px;\">\n",
            "\t\t\t\t\t\t\t \t\t\t\t\t<h5 id=\"m_laboratorio\" style=\"display:inline;font-size: 11pt;font-weight:bold;\">Company</h5>\n",
            "\t\t\t\t\t\t\t \t\t\t\t\t<div id=\"nombrelab\" class=\"col-lg-12 col-md-12 col-sm-12 col-xs-12 list-group-item-text\" style=\"padding:5px 0;text-align:left;\"></div>\n",
            "\t\t\t\t\t\t\t \t\t\t\t</div>\n",
            "\t\n",
            "\t\t\t\t\t\t\t\t\t\t\t<div class=\"col-lg-7 col-md-7 hidden-sm hidden-xs\" style=\"padding:0;margin:0;text-align:right;border:0px solid red;\">\n",
            "\t\t\t\t\t\t\t\t \t\t\t\t<div class=\"col-md-12\" role=\"toolbar\" aria-label=\"Toolbar with button groups\" style=\"align:right;padding:0;margin:0;\">\n",
            "\t\t\t\t\t\t\t\t\t\t\t\t  <div id=\"boxbuttonslg\" class=\"col-lg-12 col-md-12 col-sm-12 col-xs-12 btn-group\" style=\"padding:0;margin:0;align:right;\"></div>\n",
            "\t\t\t\t\t\t\t\t\t\t\t\t</div>\n",
            "\t\t\t\t\t\t\t\t\t\t\t</div>\n",
            "\t\t\t\t\t\t\t\t\t\t</div>\n",
            "\t\t\t\t\t\t\t\t\t\t<div class=\"hidden-lg hidden-md col-sm-12 col-xs-12\" style=\"padding:20px 5px 10px 5px;border:0px solid red;\">\n",
            "\t\t\t\t\t\t\t \t\t\t\t<div class=\"col-lg-5 col-md-5 col-sm-12 col-xs-12\" style=\"padding:0;margin:0px;\">\n",
            "\t\t\t\t\t\t\t \t\t\t\t\t<h5 id=\"m_laboratorioXS\" style=\"display:inline;font-size: 11pt;font-weight:bold;\">Company</h5>\n",
            "\t\t\t\t\t\t\t \t\t\t\t\t<div id=\"nombrelabXS\" class=\"col-lg-12 col-md-12 col-sm-12 col-xs-12 list-group-item-text\" style=\"padding:5px 0 0 0;text-align:left;\"></div>\n",
            "\t\t\t\t\t\t\t \t\t\t\t</div>\n",
            "\t\t\t\t\t\t\t\t\t\t</div>\n",
            "\t\t\t\t\t\t\t\t\t\t\n",
            "\t\t\t\t\t\t\t\t\t\t\n",
            "\t\t\t\t\t\t\t\t\t\t<!-- datos globales en xs y sm, oculto en lg y md-->\n",
            "\t\t\t\t\t\t\t\t\t\t<div class=\"hidden-lg hidden-md col-sm-12 col-xs-12\" style=\"padding:0;border-left:0px dotted #5385c1;\">\n",
            "\n",
            "\t\t\t\t\t\t\t\t\t\t\t<div class=\"hidden-lg hidden-md col-sm-8 col-xs-12\" style=\"padding:0;border-left:0px dotted #5385c1;\">\n",
            "\t\t\t\t\t\t\t \t\t\t\t\t<div id=\"numregistroXS\" class=\"col-lg-12 col-md-12 col-sm-12 col-xs-12 list-group-item-text\" style=\"padding:0;text-align:left;\"></div>\n",
            "\t\t\t\t\t\t\t\t \t\t\t\t<div class=\"col-lg-12 col-md-12 col-sm-12 col-xs-12 \" style=\"padding:0;padding-top:15px;border:0px solid #FF0000;\">\n",
            "\t\t\t\t\t\t \t\t\t\t\t\t\t<div class=\"col-lg-12 col-md-12 col-sm-12 col-xs-12 autorizado\" style=\"font-size:9pt;padding:0;margin:0;text-align:left;\"><h2 id=\"estadoXS\"></h2></div>\n",
            "\t\t\t\t\t\t \t\t\t\t\t\t\t<div class=\"col-lg-12 col-md-12 col-sm-12 col-xs-12 autorizado\" style=\"font-size:9pt;padding:0;margin:0;text-align:left;\"><h2 id=\"estadoXSsec\"></h2></div>\n",
            "\t\t\t\t\t\t \t\t\t\t\t\t\t<div class=\"col-lg-12 col-md-12 col-sm-12 col-xs-12 comercializado\" style=\"font-size:9pt;padding:0;margin:5px 0;text-align:left;\"><h3 id=\"estadocomercXS\" style=\"font-size:8pt;\"></h3></div>\n",
            "\t\t\t\t\t\t\t\t\t\t\t\t\t<div id=\"boxImagesXS\" class=\"hidden-lg hidden-md col-xs-12 \" style=\"padding:0 10px 0 0;border-left:0px dotted #5385c1;padding-top: 20px;\">\n",
            "\t\t\t\t\t\t\t\t\t\t\t\t\t\t\t\t\t\t\t\t\t \t\t\t\t\t\t\n",
            "\t\t\t\t\t\t\t\t \t\t\t\t\t</div>\n",
            "\t\t\t\t\t\t \t\t\t\t\t\t\t<div class=\"col-lg-12 col-md-12 col-sm-12 col-xs-12 \" style=\"font-size:9pt;padding:0;margin:5px 0;text-align:left;text-transform:uppercase;\"><b id=\"buttonPsumXS\"></b></div>\n",
            "\t\t\t\t\t\t \t\t\t\t\t\t\t<div class=\"col-lg-12 col-md-12 col-sm-12 col-xs-12 \" style=\"font-size:9pt;padding:0;margin:5px 0;text-align:left;text-transform:uppercase;\"><b id=\"buttonHuerfanoXS\"></b></div>\n",
            "\t\t\t\t\t\t \t\t\t\t\t\t\t<div class=\"col-lg-12 col-md-12 col-sm-12 col-xs-12 \" style=\"font-size:9pt;padding:0;margin:5px 0;text-align:left;text-transform:uppercase;\"><b id=\"buttonBiosimilarXS\"></b></div>\n",
            "\t\t\t\t\t\t\t\t \t\t\t\t</div>\n",
            "\t\t\t\t\t\t\t\t \t\t\t</div>\n",
            "\t\t\t\t\t\t\t\t \t\t\t\n",
            "\t\t\t\t\t\t\t\t \t\t\t\n",
            "\t\t\t\t\t\t \t\t\t\t</div>\n",
            "\t\t\t\t\t\t \t\t\t\t\n",
            "\t\t\t\t\t\t \t\t\t\t<div id=\"gruponotasxs\" class=\"hidden-lg hidden-md hidden-sm col-xs-12 list-group-item-peq\" style=\"padding: 15px 1px 40px; display: none;\">\n",
            "\t\t\t\t\t\t\t \t\t\t\t\n",
            "\t\t\t\t\t\t\t \t\t\t\t\t\t<div class=\"col-lg-12 col-md-12 col-sm-12 col-xs-12 list-group-item row\" style=\"padding:0px 1px;border:0px solid #FF0000;\">\n",
            "\t\t\t\t\t\t\t\t\t\t\t\t\t\t<div class=\"col-lg-12 col-md-12 col-sm-12 col-xs-12 \" style=\"padding:0;margin:0;margin-bottom:5px;text-align:center\">\n",
            "\t\t\t\t\t\t\t\t\t\t\t \t\t\t\t<div class=\"col-lg-12 col-md-12 col-sm-12 col-xs-12 \" style=\"padding:0;margin:0;text-align:left\"><b id=\"m_notasmatXS\"><img alt=\"info\" style=\"vertical-align: text-top;padding-right: 10px;height:15px;\" src=\"../resources/images/icono_Info.png\">Notes</b></div>\n",
            "\t\t\t\t\t\t\t\t\t\t\t\t\t\t</div>\n",
            "\t\t\t\t\t\t\t\t\t\t \t\t\t\t<ul id=\"bodyNotasXS\" class=\"notes \"></ul>\n",
            "\t\t\t\t\t\t\t\t\t \t\t\t\t</div>\n",
            "\t\t\t\t\t\t\t \t\t\t\t\n",
            "\t\t\t\t\t\t\t \t\t\t\t</div>\n",
            "\t\t\t\t\t\t \t\t\t\t\n",
            "\t\t\t\t\t\t \t\t\t\t\n",
            "\t\t\t\t\t\t\t\t\t\t\n",
            "\t\t\t\t\t\t\t\t\t\t<!-- separado unicamente en movil -->\n",
            "\t\t\t\t\t\t\t\t\t\t<div class=\"hidden-md col-sm-12 hidden-lg col-xs-12\" style=\"padding:10px 1px;\"></div>\n",
            "\t\t\t\t\t\t\t\t\t\t\n",
            "\t\t\t\t\t\t\t\t\t\t\t<!-- materiales pacientes y profesionalaes en lg y md-->\n",
            "\t\t\t\t\t\t \t\t\t\t<div id=\"grupomateriales\" class=\"col-lg-12 col-md-12 col-sm-12 col-xs-12 list-group-item-peq\" style=\"padding: 10px 1px; border-top: 1px dotted rgb(83, 133, 193); display: none;\">    \n",
            "\t\t\t\t\t\t\t \t\t\t\t<div id=\"grupomaterialesPaciente\" class=\"col-lg-6 col-md-6 col-sm-12 col-xs-12 \" style=\"padding: 10px 1px; margin: 0px; display: none;\">\t\t    \n",
            "\t\t\t\t\t\t\t\t \t\t\t\t<div class=\"col-lg-12 col-md-12 col-sm-12 col-xs-12 \" style=\"padding:0;margin:0;margin-bottom:10px;\"><b id=\"m_materialesPac\"><img alt=\"info\" style=\"vertical-align: text-top;padding-right: 10px;height:15px;\" src=\"../resources/images/icono_Info.png\">Information for patients</b></div>\t\t\t\n",
            "\t\t\t\t\t\t\t\t \t\t\t\t<ul id=\"bodyMaterialesPac\"></ul>    \n",
            "\t\t\t\t\t\t\t \t\t\t\t</div>\t    \n",
            "\t\t\t\t\t\t\t \t\t\t\t<div id=\"grupomaterialesProfesional\" class=\"col-lg-6 col-md-6 col-sm-12 col-xs-12 \" style=\"padding: 10px 1px; margin: 0px; display: none;\">\t\t    \n",
            "\t\t\t\t\t\t\t\t \t\t\t\t<div class=\"col-lg-12 col-md-12 col-sm-12 col-xs-12 \" style=\"padding:0;margin:0;margin-bottom:10px;\"><b id=\"m_materialesPro\"><img alt=\"info\" style=\"vertical-align: text-top;padding-right: 10px;height:15px;\" src=\"../resources/images/icono_Info.png\">Information for healthcare professionals</b> </div>\t\t\t\n",
            "\t\t\t\t\t\t\t\t \t\t\t\t<ul id=\"bodyMaterialesPro\"></ul>\t\t\n",
            "\t\t\t\t\t\t\t \t\t\t\t</div>\t\n",
            "\t\t\t\t\t\t \t\t\t\t</div>\t\n",
            "\t\t\t\t\t\t \t\t\t\t\n",
            "\t\t\t\t\t\t \t\t\t\t<!-- videos en lg y md-->\n",
            "\t\t\t\t\t\t \t\t\t\t<div id=\"grupovideos\" class=\"col-lg-12 col-md-12 col-sm-12 col-xs-12 list-group-item-peq\" style=\"padding: 10px 1px; border-top: 1px dotted rgb(83, 133, 193); display: none;\">\n",
            "\t\t\t\t\t\t \t\t\t\t\t\t<div class=\"col-lg-12 col-md-12 col-sm-12 col-xs-12  list-group-item row\" style=\"padding:10px 1px;border:0px solid #FF0000;\">\n",
            "\t\t\t\t\t\t\t\t\t\t\t\t\t<div class=\"col-lg-12 col-md-12 col-sm-12 col-xs-12 \" style=\"padding:0;margin:0;margin-bottom:5px;\">\n",
            "\t\t\t\t\t\t\t\t\t\t \t\t\t\t<div class=\"col-lg-12 col-md-12 col-sm-12 col-xs-12 \" style=\"padding:0;margin:0;\"><b id=\"m_notasmat\"><img alt=\"info\" style=\"vertical-align: text-top;padding-right: 10px;height:15px;\" src=\"../resources/images/icono_Info.png\">Videos asociados</b></div>\n",
            "\t\t\t\t\t\t\t\t\t\t\t\t\t</div>\n",
            "\t\t\t\t\t\t\t\t\t \t\t\t\t<div id=\"bodyVideos\"></div>\n",
            "\t\t\t\t\t\t\t\t \t\t\t\t</div>\n",
            "\t\t\t\t\t\t \t\t\t\t</div>\n",
            "\t\t\t\t\t\t \t\t\t\t<span id=\"qranchor\" style=\"heigth:1px\">&nbsp;</span>\t\t\t\t\t\t \t\t\t\t\n",
            "\t\t\t\t\t\t\t\t\t\t\n",
            "\t\t\t\t\t\t\t\t\t\t\n",
            "\t\t\t\t\t\t\t\t\t\t\n",
            "\t\t\t\t\t\t\t\t\t\t\n",
            "\t\t\t\t\t\t\t\t\t\t<!-- formas, vias y dosis en lg y md-->\n",
            "\t\t\t\t\t\t\t\t\t\t<div class=\"col-lg-12 col-md-12 col-sm-12 col-xs-12 list-group-item-peq \" style=\"padding:0;border-top:1px dotted #5385c1;padding-top: 5px;margin-top: -2px;\">\t    \n",
            "\t\t\t\t\t\t\t \t\t\t\t<div class=\"col-lg-5 col-md-5 col-sm-5 col-xs-12\" style=\"padding:10px 1px;margin:0;border:0px solid #FF0000;\">\t\t    \n",
            "\t\t\t\t\t\t\t\t \t\t\t\t<div class=\"col-lg-12 col-md-12 col-sm-12 col-xs-12\" style=\"padding:0;margin:0;\"><b id=\"m_formasfamaceuticas\">Pharmaceutical dose forms</b></div>\t\t\t\n",
            "\t\t\t\t\t\t\t\t \t\t\t\t<div id=\"formas\" class=\"col-lg-12 col-md-12 col-sm-12 col-xs-12\" style=\"padding:0;margin:0;\"></div>\t    \n",
            "\t\t\t\t\t\t\t \t\t\t\t</div>\t    \n",
            "\t\t\t\t\t\t\t \t\t\t\t\t\n",
            "\t\t\t\t\t\t\t \t\t\t\t<div class=\"col-lg-4 col-md-4 col-sm-4 col-xs-8\" style=\"padding:10px 1px;margin:0;border:0px solid #FF0000;\">\t\t    \n",
            "\t\t\t\t\t\t\t\t \t\t\t\t<div class=\"col-lg-12 col-md-12 col-sm-12 col-xs-12\" style=\"padding:0;margin:0;\"><b id=\"m_viasadministracion\">Routes of administration</b> </div>\t\t\t\n",
            "\t\t\t\t\t\t\t\t \t\t\t\t<div id=\"viasadministracion\" class=\"col-lg-12 col-md-12 col-sm-12 col-xs-12\" style=\"padding:0;margin:0;\"></div>\t\t\n",
            "\t\t\t\t\t\t\t \t\t\t\t</div>\n",
            "\t\t\t\t\t\t\t \t\t\t\t\n",
            "\t\t\t\t\t\t\t \t\t\t\t<div class=\"col-lg-3 col-md-3 col-sm-3 col-xs-4\" style=\"padding:10px 1px;margin:0;border:0px solid #FF0000;\">\t\t    \n",
            "\t\t\t\t\t\t\t\t \t\t\t\t<div class=\"col-lg-12 col-md-12 col-sm-12 col-xs-12\" style=\"padding:0;margin:0;\"><b id=\"m_dosis\">Strength</b></div>\t\t\t\n",
            "\t\t\t\t\t\t\t\t \t\t\t\t<div id=\"dosis\" class=\"col-lg-12 col-md-12 col-sm-12 col-xs-12\" style=\"padding:0;margin:0;\"></div>\t\t\n",
            "\t\t\t\t\t\t\t \t\t\t\t</div>\n",
            "\t\t\t\t\t\t \t\t\t\t</div>\n",
            "\n",
            "\t\t\t\t\t\t\t\t\t\t<!-- principios activos y excipientes en lg y md-->\n",
            "\t\t\t\t\t\t \t\t\t\t<div class=\"col-lg-12 col-md-12 col-sm-12 col-xs-12 list-group-item-peq \" style=\"padding:0;border-top:1px dotted #5385c1;\">\t    \n",
            "\t\t\t\t\t\t\t \t\t\t\t<div class=\"col-lg-6 col-md-6 col-sm-12 col-xs-12\" style=\"padding:10px 1px;margin:0;border:0px solid #FF0000;\">\t\t    \n",
            "\t\t\t\t\t\t\t\t \t\t\t\t<div class=\"col-lg-12 col-md-12 col-sm-12 col-xs-12\" style=\"padding:0;margin:0;\"><b id=\"m_pactivos\">Active Ingredients</b></div>\t\t\t\n",
            "\t\t\t\t\t\t\t\t \t\t\t\t<div id=\"pactivosList\" class=\"col-lg-12 col-md-12 col-sm-12 col-xs-12\" style=\"padding:0;margin:0;\">\n",
            "\t\t\t\t\t\t\t\t \t\t\t\t\t\n",
            "\t\t\t\t\t\t\t\t \t\t\t\t</div>\t    \n",
            "\t\t\t\t\t\t\t \t\t\t\t</div>\t    \n",
            "\t\t\t\t\t\t\t \t\t\t\t<div class=\"col-lg-6 col-md-6 col-sm-12 col-xs-12\" style=\"padding:10px 1px;margin:0;border:0px solid #FF0000;\">\t\t    \n",
            "\t\t\t\t\t\t\t\t \t\t\t\t<div class=\"col-lg-12 col-md-12 col-sm-12 col-xs-12\" style=\"padding:0;margin:0;\"><b id=\"m_excipientes\"> Excipients</b> <i id=\"m_excipientestool\" class=\"fa fa-question-circle-o\" aria-hidden=\"true\" style=\"font-size:12pt;margin-left:5px;\" data-original-title=\"\" title=\"\"></i> </div>\t\t\t\n",
            "\t\t\t\t\t\t\t\t \t\t\t\t<div id=\"excipientesList\" class=\"col-lg-12 col-md-12 col-sm-12 col-xs-12\" style=\"padding:0;margin:0;\">\n",
            "\t\t\t\t\t\t\t\t \t\t\t\t\n",
            "\t\t\t\t\t\t\t\t \t\t\t\t</div>\t\t\n",
            "\t\t\t\t\t\t\t \t\t\t\t</div>\t\n",
            "\t\t\t\t\t\t \t\t\t\t</div>\t\n",
            "\t\t\t\t\t\t \t\t\t\t\n",
            "\t\t\t\t\t\t \t\t\t\t<!-- caracteristicas y atcs en lg y md-->\n",
            "\t\t\t\t\t\t \t\t\t\t<div class=\"col-lg-12 col-md-12 col-sm-12 col-xs-12 list-group-item-peq\" style=\"padding:0;\">\t    \n",
            "\t\t\t\t\t\t\t \t\t\t\t<div class=\"col-lg-6 col-md-6 col-sm-12 col-xs-12\" style=\"padding:10px 1px;margin:0;border:0px solid #FF0000;\">\t\t    \n",
            "\t\t\t\t\t\t\t\t \t\t\t\t<div class=\"col-lg-12 col-md-12 col-sm-12 col-xs-12 \" style=\"padding:0;margin:0;\"><b id=\"m_caracteristicas\">Characteristics</b></div>\t\t\t\n",
            "\t\t\t\t\t\t\t\t \t\t\t\t<div id=\"caracteristicasList\" class=\"col-lg-12 col-md-12 col-sm-12 col-xs-12 \" style=\"padding:0;margin:0;\"></div>\t    \n",
            "\t\t\t\t\t\t\t \t\t\t\t</div>\t    \n",
            "\t\t\t\t\t\t\t \t\t\t\t<div class=\"col-lg-6 col-md-6 col-sm-12 col-xs-12\" style=\"padding:10px 1px;margin:0;border:0px solid #FF0000;\">\t\t    \n",
            "\t\t\t\t\t\t\t\t \t\t\t\t<div class=\"col-lg-12 col-md-12 col-sm-12 col-xs-12 \" style=\"padding:0;margin:0;\"><b id=\"m_atc\">ATCcodes</b> </div>\t\t\t\n",
            "\t\t\t\t\t\t\t\t \t\t\t\t<div id=\"atcList\" class=\"col-lg-12 col-md-12 col-sm-12 col-xs-12 \" style=\"padding:0;margin:0;\"></div>\t\t\n",
            "\t\t\t\t\t\t\t \t\t\t\t</div>\t\n",
            "\t\t\t\t\t\t \t\t\t\t</div>\t\n",
            "\t\t\t\t\t\t \t\t\t\t\n",
            "\t\t\t\t\t\t \t\t\t\t<!-- caracteristicas y atcs en lg y md-->\n",
            "<!-- \t\t\t\t\t\t \t\t\t\t<div class=\"col-lg-12 col-md-12 col-sm-12 col-xs-12 list-group-item-peq\" style=\"padding:0;\">\t     -->\n",
            "<!-- \t\t\t\t\t\t\t \t\t\t\t<div class=\"col-lg-6 col-md-6 col-sm-12 col-xs-12\" style=\"padding:10px 1px;margin:0;border:0px solid #FF0000;\">\t\t     -->\n",
            "<!-- \t\t\t\t\t\t\t\t \t\t\t\t<div class=\"col-lg-12 col-md-12 col-sm-12 col-xs-12 \" style=\"padding:0;margin:0;\"><b id=\"m_caracteristicas2\">VTM</b></div>\t\t\t -->\n",
            "<!-- \t\t\t\t\t\t\t\t \t\t\t\t<div id=\"caracteristicasList2\" class=\"col-lg-12 col-md-12 col-sm-12 col-xs-12 \" style=\"padding:0;margin:0;\"></div>\t     -->\n",
            "<!-- \t\t\t\t\t\t\t \t\t\t\t</div>\t     -->\n",
            "<!-- \t\t\t\t\t\t\t \t\t\t\t<div class=\"col-lg-6 col-md-6 col-sm-12 col-xs-12\" style=\"padding:10px 1px;margin:0;border:0px solid #FF0000;\">\t\t     -->\n",
            "<!-- \t\t\t\t\t\t\t\t \t\t\t\t<div class=\"col-lg-12 col-md-12 col-sm-12 col-xs-12 \" style=\"padding:0;margin:0;\"><b id=\"m_atc2\">Biomarcador</b> </div>\t\t\t -->\n",
            "<!-- \t\t\t\t\t\t\t\t \t\t\t\t<div id=\"atcList2\" class=\"col-lg-12 col-md-12 col-sm-12 col-xs-12 \" style=\"padding:0;margin:0;\"></div>\t\t -->\n",
            "<!-- \t\t\t\t\t\t\t \t\t\t\t</div>\t -->\n",
            "<!-- \t\t\t\t\t\t \t\t\t\t</div>\t -->\n",
            "\t\t\t\t\t\t \t\t\t\t\n",
            "\t\t\t\t\t\t \t\t\t\t\n",
            "\t\t\t\t\t\t \t\t\t\t<!-- formatos en lg y md-->\n",
            "\t\t\t\t\t\t \t\t\t\t<div id=\"grupoformatos\" class=\"col-lg-12 col-md-12 col-sm-12 col-xs-12 list-group-item-peq\" style=\"padding: 10px 1px; border-top: 1px dotted rgb(83, 133, 193); display: none;\">\n",
            "\t\t\t\t\t\t\t\t\t\t\t<div class=\"col-lg-12 col-md-12 col-sm-12 col-xs-12 list-group-item row\" style=\"padding:10px 1px;border:0px solid #FF0000;\">\n",
            "\t\t\t\t\t\t\t\t\t\t\t\t<div class=\"col-lg-12 col-md-12 col-sm-12 col-xs-12\" style=\"padding:0;margin:0;margin-bottom:5px;\">\n",
            "\t\t\t\t\t\t\t\t\t \t\t\t\t<div class=\"col-lg-7 col-md-7 col-sm-7 col-xs-7\" style=\"padding:0;margin:0;\">\n",
            "\t\t\t\t\t\t\t\t\t \t\t\t\t<b id=\"m_presentaciones\">Pack sizes<a class=\"hidden-xs\" style=\"cursor:pointer;font-weight:normal;font-size:8pt;margin-left:10px\" onclick=\"generarXLS()\"> Export</a></b>\n",
            "<!-- \t\t\t\t\t\t\t\t\t \t\t\t\t<b class=\"col-xs-12 col-sm-12 hidden-md hidden-lg\" id=\"buttonPsumXS2\"></b> -->\n",
            "\t\t\t\t\t\t\t\t\t \t\t\t\t</div>\n",
            "\t\t\t\t\t\t\t\t\t \t\t\t\t\n",
            "\t\t\t\t\t\t\t\t\t \t\t\t\t<div class=\"col-lg-5 col-md-5 col-sm-5 hidden-xs\" style=\"padding:0;margin:0;text-align:center;\">\n",
            "\t\t\t\t\t\t\t\t\t \t\t\t\t\t<div class=\"col-lg-4 col-md-4 col-sm-4 hidden-xs\" style=\"padding:0;margin:0;border-bottom:1px solid #5385c1;color: #4175B4;font-size:8px;\">\n",
            "\t\t\t\t\t\t\t\t\t\t \t\t\t\t\t<div class=\"col-lg-1 col-md-1 col-sm-1 hidden-xs\" style=\"padding:0;margin:0;background:#5385c1;color: #5385c1;font-size:8px;\">&nbsp;</div>\n",
            "\t\t\t\t\t\t\t\t\t\t \t\t\t\t\t<b id=\"cnvcomerc\">Marketed</b>\n",
            "\t\t\t\t\t\t\t\t\t\t \t\t\t\t</div>\n",
            "\t\t\t\t\t\t\t\t\t\t \t\t\t\t<div class=\"col-lg-5 col-md-5 col-sm-5 hidden-xs\" style=\"padding:0;margin:0 0 0 5px;border-bottom:1px solid grey;color: #737373;font-size:8px;\">\n",
            "\t\t\t\t\t\t\t\t\t\t \t\t\t\t\t<div class=\"col-lg-1 col-md-1 col-sm-1 hidden-xs\" style=\"padding:0;margin:0;background:grey;color: grey;font-size:8px;\">&nbsp;</div>\n",
            "\t\t\t\t\t\t\t\t\t\t \t\t\t\t\t<b id=\"cnvnocomerc\">Not marketed</b>\n",
            "\t\t\t\t\t\t\t\t\t\t \t\t\t\t</div>\n",
            "\t\t\t\t\t\t\t\t\t\t\t\t\t</div>\n",
            "\t\t\t\t\t\t\t\t\t\t\t\t\t\n",
            "\t\t\t\t\t\t\t\t\t\t\t\t</div>\n",
            "\t\t\t\t\t\t\t\t\t\t\t\t\n",
            "\t\t\t\t\t\t\t\t \t\t\t\t<div id=\"bodyFormatos\"></div>\n",
            "\t\t\t\t\t\t\t\t \t\t\t\t\n",
            "\t\t\t\t\t\t\t\t \t\t\t\t<div class=\"col-xs-12 hidden-md hidden-sm hidden-lg\" style=\"padding:0;margin:0;text-align:center;\">\n",
            "\t\t\t\t\t\t\t\t \t\t\t\t\t<div class=\"col-xs-4 col-sm-4 hidden-md hidden-lg\" style=\"padding:0;margin:0;border-bottom:1px solid #5385c1;color: #5385c1;font-size:8px;\">\n",
            "\t\t\t\t\t\t\t\t\t \t\t\t\t\t<div class=\"col-xs-1 hidden-md hidden-sm hidden-lg\" style=\"padding:0;margin:0;background:#5385c1;color: #5385c1;font-size:8px;\">&nbsp;</div>\n",
            "\t\t\t\t\t\t\t\t\t \t\t\t\t\t<b id=\"cnvcomercXS\">Marketed</b>\n",
            "\t\t\t\t\t\t\t\t\t \t\t\t\t</div>\n",
            "\t\t\t\t\t\t\t\t\t \t\t\t\t<div class=\"col-xs-4 col-sm-4 hidden-md hidden-lg\" style=\"padding:0;margin:0 0 0 5px;border-bottom:1px solid grey;color: grey;font-size:8px;\">\n",
            "\t\t\t\t\t\t\t\t\t \t\t\t\t\t<div class=\"col-xs-1 hidden-md hidden-sm hidden-lg\" style=\"padding:0;margin:0;background:grey;color: grey;font-size:8px;\">&nbsp;</div>\n",
            "\t\t\t\t\t\t\t\t\t \t\t\t\t\t<b id=\"cnvnocomercXS\">Not marketed</b>\n",
            "\t\t\t\t\t\t\t\t\t \t\t\t\t</div>\n",
            "\t\t\t\t\t\t\t\t\t\t\t\t</div>\n",
            "\t\t\t\t\t\t\t\t\t\t\t\t\n",
            "\t\t\t\t\t\t\t \t\t\t\t</div>\n",
            "\t\t\t\t\t\t\t \t\t\t\t\t\t\t\t\t \t\t\t\t\t\n",
            "\t\t\t\t\t\t \t\t\t\t</div>\n",
            "\t\t\t\t\t \t\t\t\t</div>\n",
            "\t\t\t\t\t \t\t\t\t<!-- FIN DEL DETALLE DEL MEDICAMENTO -->\n",
            "\t\t\t\t\t \t\t\t\t\n",
            "<!-- \t\t\t\t\t \t\t\t<div id=\"boxbuttons\" class=\"col-md-1 col-sm-1 col-xs-12 hidden-md hidden-lg hidden-sm\" style=\"border:0px solid green;padding:1;margin:0;text-align:right;\"></div> -->\n",
            "\t\t\t\t\t \t\t\t\t\n",
            "\t\t\t\t\t \t\t\t\t<div class=\"col-md-12 col-xs-12 autorizado\" style=\"padding:0;padding-top:10px;text-align:right;\"><h5></h5></div>\n",
            "\t\t\t\t\t \t\t\t\t\n",
            "\t\t\t\t\t \t\t</div>\n",
            "\t\t\t\t\t \n",
            "\t\t\t\t\t </div>\t\n",
            "\n",
            "\t\t\t\t</div>\n",
            "\t\t\t</div><!-- FIN DEL CUERPO  -->\n",
            "\t\t</div> <!-- FIN DEL ROW -->\n",
            "\t</div>  <!-- FIN DEL CONTAINER -->\n",
            "<br>\n",
            "<br>\n",
            "</div> <!-- FIN DEL BOX -->\n",
            "\n",
            "<div class=\"modal fade\" id=\"compartir\" tabindex=\"-1\" role=\"dialog\" aria-labelledby=\"edit\" aria-hidden=\"true\">\n",
            "\t<div class=\"modal-dialog\">\n",
            "\t\t<div class=\"modal-content panel panel-default\">\n",
            "\t\t\t<div class=\"modal-header\">\n",
            "\t\t\t        <button type=\"button\" class=\"close\" data-dismiss=\"modal\" aria-hidden=\"true\"><i class=\"fa fa-times\"></i></button>\n",
            "\t\t\t        <span id=\"m_titulocompartir\" style=\"color:#286090; font-size:20pt; font-weight:bold; text-transform: uppercase; font-family: Montserrat,Helvetica Neue,Helvetica,Arial,sans-serif;\">Share this medicine</span>\n",
            "\t\t\t</div>\n",
            "\t\t\t<div class=\"modal-body\">    \n",
            "\t          <div class=\"col-md-12\" style=\"padding:1;margin:0;\"><b id=\"m_descompartir\">Write an email address to share</b></div> \n",
            "\t          <br>         \t\t   \n",
            "\t\t\t        <div class=\"row\">\n",
            "\t\t\t\t\t\t<div class=\"col-md-12 col-md-offset-0 col-xs-12\">\n",
            "\t \t\t\t\t\t\t<form class=\"form-signin\">\n",
            "\t\t\t\t                <input type=\"text\" id=\"inputCompartir\" class=\"form-control\" placeholder=\"\">\t\t\t\t\t               \n",
            "\t\t\t\t            </form>\t\n",
            "\t\t\t\t\t\t</div>\t\n",
            "\t\t \t\t\t</div>\n",
            "\t\t \t\t\t<br>  \t \t\t\t\n",
            "\t\t\t</div>\n",
            "\t\t\t<div class=\"modal-footer\">\n",
            "\t        \t<div class=\"col-md-7\"><b id=\"m_avisocompartir\" style=\"text-align:left;font-size:10pt;color:red; font-weight:bold;\"></b></div>\n",
            "\t        \t<div class=\"col-md-5\">\n",
            "\t        \t\t<button id=\"btnCompartir\" type=\"button\" class=\"btn btn-primary\" onclick=\"compartirMedicamento()\">Share</button>\n",
            "\t        \t\t<button id=\"btnCancelCompartir\" type=\"button\" class=\"btn btn-default\" data-dismiss=\"modal\">Close</button>\n",
            "\t        \t</div>\n",
            "\t\t\t</div>\n",
            "\t\t</div> \n",
            "\t</div>\n",
            "</div>\n",
            " \n",
            "<div class=\"modal fade\" id=\"avisofavorito\" tabindex=\"-1\" role=\"dialog\" aria-labelledby=\"edit\" aria-hidden=\"true\">\n",
            "\t<div class=\"modal-dialog\">\n",
            "\t    <div class=\"modal-content panel panel-default\">\n",
            "\t    \t<div class=\"modal-header\">\n",
            "\t\t\t        <button type=\"button\" class=\"close\" data-dismiss=\"modal\" aria-hidden=\"true\"><i class=\"fa fa-times\"></i></button>\n",
            "\t\t\t        <span id=\"m_titulofavorito\" style=\"color:#286090; font-size:20pt; font-weight:bold; text-transform: uppercase; font-family: Montserrat,Helvetica Neue,Helvetica,Arial,sans-serif;\">Bookmark medicines</span>\n",
            "\t\t\t</div>\n",
            "\t\t\t<div class=\"modal-body\">           \t\t   \n",
            "\t\t\t\t<div class=\"row\">\n",
            "\t\t\t\t\t<div class=\"col-md-12 col-md-offset-0 col-xs-12\">\n",
            "\t \t\t\t\t\t<h4 id=\"m_descavisofavorito\"></h4>\n",
            "\t\t\t\t\t</div>\t\n",
            "\t\t \t\t</div>  \n",
            "\t\t\t</div>\n",
            "\t\t\t<div class=\"modal-footer\">\n",
            "\t        \t<button id=\"btnCancelAvisoFavorito\" type=\"button\" class=\"btn btn-default\" data-dismiss=\"modal\">Close</button>\n",
            "\t\t\t</div> \n",
            "\t  \t</div> \n",
            "\t</div>\n",
            "</div>\n",
            " \n",
            "  <div id=\"dialogerror\"></div>\n",
            " \n",
            "<footer id=\"footer\"></footer>\n",
            "\n",
            "\n",
            "\n",
            "<div class=\"modal fade\" id=\"genXLS\" tabindex=\"-1\" role=\"dialog\" aria-labelledby=\"edit\" aria-hidden=\"true\">\n",
            "   \n",
            " </div>\n",
            " \n",
            " <div class=\"modal fade\" id=\"presentacionesRAM\" tabindex=\"-1\" role=\"dialog\" aria-labelledby=\"edit\" aria-hidden=\"true\">\n",
            "   \n",
            " </div>\n",
            "</body></html>\n"
          ]
        }
      ]
    },
    {
      "cell_type": "code",
      "metadata": {
        "id": "Inwx73H6OxwP",
        "colab": {
          "base_uri": "https://localhost:8080/"
        },
        "outputId": "ee5d2b80-a247-4e93-fc59-13078f3dec71"
      },
      "source": [
        "# Search list of medicines\n",
        "meds = driver.find_elements(By.CSS_SELECTOR,\"div[onclick*=medicamentoOnSelect]\")\n",
        "print(len(meds))\n",
        "meds"
      ],
      "execution_count": 70,
      "outputs": [
        {
          "output_type": "stream",
          "name": "stdout",
          "text": [
            "25\n"
          ]
        },
        {
          "output_type": "execute_result",
          "data": {
            "text/plain": [
              "[<selenium.webdriver.remote.webelement.WebElement (session=\"9eae5acf39341a7f6b6d5a0187141fcf\", element=\"c434672c-5485-4747-9e2b-d7e70a5d68e2\")>,\n",
              " <selenium.webdriver.remote.webelement.WebElement (session=\"9eae5acf39341a7f6b6d5a0187141fcf\", element=\"45643eaa-ff17-4beb-82e6-786e5400b8e2\")>,\n",
              " <selenium.webdriver.remote.webelement.WebElement (session=\"9eae5acf39341a7f6b6d5a0187141fcf\", element=\"d3e99a90-e0d7-4ae9-9e2c-5e25f57ef6cb\")>,\n",
              " <selenium.webdriver.remote.webelement.WebElement (session=\"9eae5acf39341a7f6b6d5a0187141fcf\", element=\"5988e0f9-6986-4522-ae76-2b0046c063b4\")>,\n",
              " <selenium.webdriver.remote.webelement.WebElement (session=\"9eae5acf39341a7f6b6d5a0187141fcf\", element=\"3039835f-5c95-46e9-bc4a-a0929eaef0a9\")>,\n",
              " <selenium.webdriver.remote.webelement.WebElement (session=\"9eae5acf39341a7f6b6d5a0187141fcf\", element=\"68b45a1f-16a4-4734-9242-ae22f11262c4\")>,\n",
              " <selenium.webdriver.remote.webelement.WebElement (session=\"9eae5acf39341a7f6b6d5a0187141fcf\", element=\"31ba8457-6e76-49e8-8e7f-72cff1dea325\")>,\n",
              " <selenium.webdriver.remote.webelement.WebElement (session=\"9eae5acf39341a7f6b6d5a0187141fcf\", element=\"c3b6bc42-7253-45b7-8561-18225e4819bb\")>,\n",
              " <selenium.webdriver.remote.webelement.WebElement (session=\"9eae5acf39341a7f6b6d5a0187141fcf\", element=\"fa2a840e-4964-4843-8bd8-d3c8e3b0cbfc\")>,\n",
              " <selenium.webdriver.remote.webelement.WebElement (session=\"9eae5acf39341a7f6b6d5a0187141fcf\", element=\"3be78f14-f3ec-4b29-a516-acc5a7da0298\")>,\n",
              " <selenium.webdriver.remote.webelement.WebElement (session=\"9eae5acf39341a7f6b6d5a0187141fcf\", element=\"66f77098-d256-4673-83ac-376f416122e5\")>,\n",
              " <selenium.webdriver.remote.webelement.WebElement (session=\"9eae5acf39341a7f6b6d5a0187141fcf\", element=\"bb7b0278-dd68-4b28-8ba6-7b4cd5155750\")>,\n",
              " <selenium.webdriver.remote.webelement.WebElement (session=\"9eae5acf39341a7f6b6d5a0187141fcf\", element=\"c1f8f80b-0267-4b6f-a500-9fd4c0ef0c19\")>,\n",
              " <selenium.webdriver.remote.webelement.WebElement (session=\"9eae5acf39341a7f6b6d5a0187141fcf\", element=\"af7f66b0-606d-4784-b2e4-db4237c7b6aa\")>,\n",
              " <selenium.webdriver.remote.webelement.WebElement (session=\"9eae5acf39341a7f6b6d5a0187141fcf\", element=\"6696552a-dc8f-4070-8148-6dc6206160ae\")>,\n",
              " <selenium.webdriver.remote.webelement.WebElement (session=\"9eae5acf39341a7f6b6d5a0187141fcf\", element=\"f4fd8336-b7e9-4c86-8939-d937b5e8ecee\")>,\n",
              " <selenium.webdriver.remote.webelement.WebElement (session=\"9eae5acf39341a7f6b6d5a0187141fcf\", element=\"3737b5e3-2074-463a-a590-4395a95e4f86\")>,\n",
              " <selenium.webdriver.remote.webelement.WebElement (session=\"9eae5acf39341a7f6b6d5a0187141fcf\", element=\"9a451d2b-70e1-4742-8a4b-3df5b0f9658c\")>,\n",
              " <selenium.webdriver.remote.webelement.WebElement (session=\"9eae5acf39341a7f6b6d5a0187141fcf\", element=\"b661067a-fbbe-43a0-a295-965ae8d4bc2c\")>,\n",
              " <selenium.webdriver.remote.webelement.WebElement (session=\"9eae5acf39341a7f6b6d5a0187141fcf\", element=\"55116cdf-b024-4f03-a008-21799cf57dda\")>,\n",
              " <selenium.webdriver.remote.webelement.WebElement (session=\"9eae5acf39341a7f6b6d5a0187141fcf\", element=\"b8c23777-9246-4324-beaa-bec69bc5d763\")>,\n",
              " <selenium.webdriver.remote.webelement.WebElement (session=\"9eae5acf39341a7f6b6d5a0187141fcf\", element=\"38497551-7afe-4c41-955b-1a08cb12be2b\")>,\n",
              " <selenium.webdriver.remote.webelement.WebElement (session=\"9eae5acf39341a7f6b6d5a0187141fcf\", element=\"5b71001f-7cf1-4396-832e-6348ad4ee00f\")>,\n",
              " <selenium.webdriver.remote.webelement.WebElement (session=\"9eae5acf39341a7f6b6d5a0187141fcf\", element=\"4fe0c489-213d-414c-9f71-0e58f6e972c7\")>,\n",
              " <selenium.webdriver.remote.webelement.WebElement (session=\"9eae5acf39341a7f6b6d5a0187141fcf\", element=\"f51ed73d-4449-45ad-8154-fc2223e63e10\")>]"
            ]
          },
          "metadata": {},
          "execution_count": 70
        }
      ]
    },
    {
      "cell_type": "code",
      "metadata": {
        "id": "YIXUc6BmjkUk",
        "colab": {
          "base_uri": "https://localhost:8080/",
          "height": 68
        },
        "outputId": "d3f0e09b-2a45-4881-9f94-02d73ac0105e"
      },
      "source": [
        "meds[0].get_attribute('outerHTML')"
      ],
      "execution_count": 42,
      "outputs": [
        {
          "output_type": "execute_result",
          "data": {
            "application/vnd.google.colaboratory.intrinsic+json": {
              "type": "string"
            },
            "text/plain": [
              "'<div class=\"col-md-12 list-group-item-med\" style=\"padding:0;cursor:pointer;text-transform:none;word-break: break-word;\" onclick=\"medicamentoOnSelect(\\'81012\\')\">ABACAVIR/LAMIVUDINA DR. REDDYS 600 MG/300 MG COMPRIMIDOS RECUBIERTOS CON PELICULA EFG</div>'"
            ]
          },
          "metadata": {},
          "execution_count": 42
        }
      ]
    },
    {
      "cell_type": "code",
      "metadata": {
        "colab": {
          "base_uri": "https://localhost:8080/",
          "height": 35
        },
        "id": "gTZVRHo_pynT",
        "outputId": "37c618bf-6325-437d-c8e4-4274617d9ceb"
      },
      "source": [
        "meds[0].get_attribute('onclick')"
      ],
      "execution_count": 48,
      "outputs": [
        {
          "output_type": "execute_result",
          "data": {
            "application/vnd.google.colaboratory.intrinsic+json": {
              "type": "string"
            },
            "text/plain": [
              "\"medicamentoOnSelect('84182')\""
            ]
          },
          "metadata": {},
          "execution_count": 48
        }
      ]
    },
    {
      "cell_type": "code",
      "metadata": {
        "colab": {
          "base_uri": "https://localhost:8080/"
        },
        "id": "UyytD1Vjp-OT",
        "outputId": "1e7757a8-7eb7-4672-8280-460f58ae6b81"
      },
      "source": [
        "# Get medicine id and search by this id\n",
        "id = meds[0].get_attribute('onclick')\n",
        "driver.find_element(By.CSS_SELECTOR,f\"div[onclick=\\\"{id}\\\"]\")"
      ],
      "execution_count": 44,
      "outputs": [
        {
          "output_type": "execute_result",
          "data": {
            "text/plain": [
              "<selenium.webdriver.remote.webelement.WebElement (session=\"d4d6a0232ccbad247e575ef93b6fbcb4\", element=\"5a679f5a-87ad-4cce-846c-558b7368fbb6\")>"
            ]
          },
          "metadata": {},
          "execution_count": 44
        }
      ]
    },
    {
      "cell_type": "code",
      "metadata": {
        "colab": {
          "base_uri": "https://localhost:8080/"
        },
        "id": "PAabw4dspG7J",
        "outputId": "a3654bb8-f7c5-4400-de5a-526dd7c3eafc"
      },
      "source": [
        "# Retrieve all ids within the list of medicines\n",
        "\n",
        "meds_ids = []\n",
        "\n",
        "for m in meds:\n",
        "  id = m.get_attribute('onclick')\n",
        "  meds_ids.append(id)\n",
        "\n",
        "meds_ids"
      ],
      "execution_count": 50,
      "outputs": [
        {
          "output_type": "execute_result",
          "data": {
            "text/plain": [
              "[\"medicamentoOnSelect('81012')\",\n",
              " \"medicamentoOnSelect('84182')\",\n",
              " \"medicamentoOnSelect('80803')\",\n",
              " \"medicamentoOnSelect('82913')\",\n",
              " \"medicamentoOnSelect('07428001')\",\n",
              " \"medicamentoOnSelect('65382')\",\n",
              " \"medicamentoOnSelect('65059')\",\n",
              " \"medicamentoOnSelect('61836')\",\n",
              " \"medicamentoOnSelect('61837')\",\n",
              " \"medicamentoOnSelect('60014')\",\n",
              " \"medicamentoOnSelect('70452')\",\n",
              " \"medicamentoOnSelect('70451')\",\n",
              " \"medicamentoOnSelect('69223')\",\n",
              " \"medicamentoOnSelect('71437')\",\n",
              " \"medicamentoOnSelect('79696')\",\n",
              " \"medicamentoOnSelect('62389')\",\n",
              " \"medicamentoOnSelect('66460')\",\n",
              " \"medicamentoOnSelect('66459')\",\n",
              " \"medicamentoOnSelect('67763')\",\n",
              " \"medicamentoOnSelect('66458')\",\n",
              " \"medicamentoOnSelect('67621')\",\n",
              " \"medicamentoOnSelect('67988')\",\n",
              " \"medicamentoOnSelect('67874')\",\n",
              " \"medicamentoOnSelect('64920')\",\n",
              " \"medicamentoOnSelect('64921')\"]"
            ]
          },
          "metadata": {},
          "execution_count": 50
        }
      ]
    },
    {
      "cell_type": "code",
      "metadata": {
        "colab": {
          "base_uri": "https://localhost:8080/"
        },
        "id": "KB9kWSvxrVAV",
        "outputId": "2ed33c6b-bc65-47ba-c77a-7fbc55dec9be"
      },
      "source": [
        "# Retrieve all htmls searching each medicine by its ID\n",
        "meds_htmls = []\n",
        "\n",
        "for id in meds_ids:  \n",
        "  driver.find_element(By.CSS_SELECTOR,f\"div[onclick=\\\"{id}\\\"]\").click()\n",
        "  driver.implicitly_wait(5)\n",
        "  meds_htmls.append(driver.page_source)\n",
        "  driver.back()\n",
        "  driver.implicitly_wait(5)\n",
        "\n",
        "len(meds_htmls)"
      ],
      "execution_count": 51,
      "outputs": [
        {
          "output_type": "execute_result",
          "data": {
            "text/plain": [
              "25"
            ]
          },
          "metadata": {},
          "execution_count": 51
        }
      ]
    },
    {
      "cell_type": "code",
      "metadata": {
        "colab": {
          "base_uri": "https://localhost:8080/",
          "height": 35
        },
        "id": "KkPE8I0Cq1VV",
        "outputId": "78dd5ab3-46cb-493c-9226-c031b50cbc4f"
      },
      "source": [
        "driver.title\n",
        "driver.back()\n",
        "driver.implicitly_wait(5)\n",
        "driver.title"
      ],
      "execution_count": 52,
      "outputs": [
        {
          "output_type": "execute_result",
          "data": {
            "application/vnd.google.colaboratory.intrinsic+json": {
              "type": "string"
            },
            "text/plain": [
              "'.:: CIMA ::. Centro de información de medicamentos'"
            ]
          },
          "metadata": {},
          "execution_count": 52
        }
      ]
    },
    {
      "cell_type": "code",
      "metadata": {
        "id": "GY0wMYNlyH7W",
        "outputId": "a2be1cf2-2a0d-4003-c322-3578ce89ab1e",
        "colab": {
          "base_uri": "https://localhost:8080/"
        }
      },
      "source": [
        "# Scroll down\n",
        "# References: https://stackoverflow.com/questions/20986631/how-can-i-scroll-a-web-page-using-selenium-webdriver-in-python\n",
        "\n",
        "MAX_ELEMENTS = 10000 # Ha tardado 1 hora en obtener todos estos elementos.\n",
        "\n",
        "while True:\n",
        "  n_meds =len(driver.find_elements(By.CSS_SELECTOR,\"div[onclick*=medicamentoOnSelect]\"))\n",
        "  if n_meds >= MAX_ELEMENTS:\n",
        "    break\n",
        "  driver.execute_script(\"window.scrollTo(0, document.body.scrollHeight);\")\n",
        "  driver.implicitly_wait(15)\n",
        "\n",
        "n_meds"
      ],
      "execution_count": 71,
      "outputs": [
        {
          "output_type": "execute_result",
          "data": {
            "text/plain": [
              "10000"
            ]
          },
          "metadata": {},
          "execution_count": 71
        }
      ]
    },
    {
      "cell_type": "markdown",
      "metadata": {
        "id": "9WzOFFDAhtrV"
      },
      "source": [
        "# Problemas encontrados"
      ]
    },
    {
      "cell_type": "markdown",
      "metadata": {
        "id": "NUurrX12h0zs"
      },
      "source": [
        "## Selenium"
      ]
    },
    {
      "cell_type": "markdown",
      "metadata": {
        "id": "luhh9StSi7DO"
      },
      "source": [
        "### StaleElementReferenceException\n",
        "\n",
        "Selenium no permite iterar sobre un listado de elementos encontrados porque el `id` del elemento cambia cada vez que se regresa la página de resultados de la búsqueda. \n",
        "\n",
        "Está explicado en el apartado de \"**The Element is not Attached to the DOM\"**  en la siguiente página: [https://www.selenium.dev/exceptions/#stale_element_reference](https://www.selenium.dev/exceptions/#stale_element_reference)*texto en cursiva*\n"
      ]
    },
    {
      "cell_type": "code",
      "metadata": {
        "colab": {
          "base_uri": "https://localhost:8080/"
        },
        "id": "cfImCpcvi6av",
        "outputId": "070358b5-eaee-45df-abb8-e9270735476b"
      },
      "source": [
        "# Search list of medicines\n",
        "driver.find_elements(By.CSS_SELECTOR,\"div[onclick*=medicamentoOnSelect]\")"
      ],
      "execution_count": 6,
      "outputs": [
        {
          "output_type": "execute_result",
          "data": {
            "text/plain": [
              "[<selenium.webdriver.remote.webelement.WebElement (session=\"84381eceac0843338c0e2bb89edeb957\", element=\"b1a1df32-a801-4239-bd87-a11ed4d554a5\")>,\n",
              " <selenium.webdriver.remote.webelement.WebElement (session=\"84381eceac0843338c0e2bb89edeb957\", element=\"35e5bbda-56d3-43ca-8606-aa43302a0a79\")>,\n",
              " <selenium.webdriver.remote.webelement.WebElement (session=\"84381eceac0843338c0e2bb89edeb957\", element=\"38599acc-f179-4091-b252-19f5cf3ba306\")>,\n",
              " <selenium.webdriver.remote.webelement.WebElement (session=\"84381eceac0843338c0e2bb89edeb957\", element=\"6709c6ce-1dff-40ef-815d-5e4d3d3f1b96\")>,\n",
              " <selenium.webdriver.remote.webelement.WebElement (session=\"84381eceac0843338c0e2bb89edeb957\", element=\"d3e0c429-1a47-416b-89b3-31177cc1c65d\")>,\n",
              " <selenium.webdriver.remote.webelement.WebElement (session=\"84381eceac0843338c0e2bb89edeb957\", element=\"3c1823cb-225a-443b-9238-e40bc368b87a\")>,\n",
              " <selenium.webdriver.remote.webelement.WebElement (session=\"84381eceac0843338c0e2bb89edeb957\", element=\"3a5a20ff-ca7c-4680-b24b-a0450690aedb\")>,\n",
              " <selenium.webdriver.remote.webelement.WebElement (session=\"84381eceac0843338c0e2bb89edeb957\", element=\"788fcf83-ef98-45d8-995a-596c5330f505\")>,\n",
              " <selenium.webdriver.remote.webelement.WebElement (session=\"84381eceac0843338c0e2bb89edeb957\", element=\"774d82ba-17ea-4380-8659-ba9af0a29045\")>,\n",
              " <selenium.webdriver.remote.webelement.WebElement (session=\"84381eceac0843338c0e2bb89edeb957\", element=\"c5efc83e-c64d-4469-ab63-5263ab04c0c5\")>,\n",
              " <selenium.webdriver.remote.webelement.WebElement (session=\"84381eceac0843338c0e2bb89edeb957\", element=\"e41be57c-2825-473e-bf8d-b5118b93ebf7\")>,\n",
              " <selenium.webdriver.remote.webelement.WebElement (session=\"84381eceac0843338c0e2bb89edeb957\", element=\"4e74e7df-899f-4854-b314-d4c06e4114fd\")>,\n",
              " <selenium.webdriver.remote.webelement.WebElement (session=\"84381eceac0843338c0e2bb89edeb957\", element=\"bc2761c8-39d4-4378-9d78-4ef2cabec393\")>,\n",
              " <selenium.webdriver.remote.webelement.WebElement (session=\"84381eceac0843338c0e2bb89edeb957\", element=\"d3b3ca07-e40b-4a04-92ba-5a1b6c49d194\")>,\n",
              " <selenium.webdriver.remote.webelement.WebElement (session=\"84381eceac0843338c0e2bb89edeb957\", element=\"5e27dd75-5b24-41a3-b3fa-bd770a0a8d83\")>,\n",
              " <selenium.webdriver.remote.webelement.WebElement (session=\"84381eceac0843338c0e2bb89edeb957\", element=\"2eb012f2-8d40-49f4-a665-048246fcfc13\")>,\n",
              " <selenium.webdriver.remote.webelement.WebElement (session=\"84381eceac0843338c0e2bb89edeb957\", element=\"7faee6fb-f992-4bb6-ac5b-5dd5996764d4\")>,\n",
              " <selenium.webdriver.remote.webelement.WebElement (session=\"84381eceac0843338c0e2bb89edeb957\", element=\"5278ba54-d669-475a-8013-9774d53cbc3b\")>,\n",
              " <selenium.webdriver.remote.webelement.WebElement (session=\"84381eceac0843338c0e2bb89edeb957\", element=\"00e32fc7-2e23-4768-9581-2fa5cc0c7811\")>,\n",
              " <selenium.webdriver.remote.webelement.WebElement (session=\"84381eceac0843338c0e2bb89edeb957\", element=\"269ff441-8460-4295-927c-f74b3c4e4db7\")>,\n",
              " <selenium.webdriver.remote.webelement.WebElement (session=\"84381eceac0843338c0e2bb89edeb957\", element=\"f29495e6-9295-4a8e-9bd7-1a5053115535\")>,\n",
              " <selenium.webdriver.remote.webelement.WebElement (session=\"84381eceac0843338c0e2bb89edeb957\", element=\"cbb4f274-8faa-4202-82dc-bfe63ac3bf7b\")>,\n",
              " <selenium.webdriver.remote.webelement.WebElement (session=\"84381eceac0843338c0e2bb89edeb957\", element=\"b61349d0-a80a-4f77-8394-4249f57bcab4\")>,\n",
              " <selenium.webdriver.remote.webelement.WebElement (session=\"84381eceac0843338c0e2bb89edeb957\", element=\"e1871a39-be7b-4d9a-a7c3-dc5784b2f9cf\")>,\n",
              " <selenium.webdriver.remote.webelement.WebElement (session=\"84381eceac0843338c0e2bb89edeb957\", element=\"3645eecf-1282-45f5-ad50-72803191cd3b\")>]"
            ]
          },
          "metadata": {},
          "execution_count": 6
        }
      ]
    },
    {
      "cell_type": "code",
      "metadata": {
        "colab": {
          "base_uri": "https://localhost:8080/"
        },
        "id": "kipJFgLLjTrK",
        "outputId": "4276d29a-6b5e-4d6e-c680-9c06f33bbf36"
      },
      "source": [
        "# Refresh page and perform the same search\n",
        "driver.refresh()\n",
        "driver.implicitly_wait(5)\n",
        "driver.find_elements(By.CSS_SELECTOR,\"div[onclick*=medicamentoOnSelect]\")"
      ],
      "execution_count": 7,
      "outputs": [
        {
          "output_type": "execute_result",
          "data": {
            "text/plain": [
              "[<selenium.webdriver.remote.webelement.WebElement (session=\"84381eceac0843338c0e2bb89edeb957\", element=\"dc618bc7-cb7a-448d-ab52-d758b9b076df\")>,\n",
              " <selenium.webdriver.remote.webelement.WebElement (session=\"84381eceac0843338c0e2bb89edeb957\", element=\"7dac3da3-ed71-48d3-aab4-4f80aa87ee6e\")>,\n",
              " <selenium.webdriver.remote.webelement.WebElement (session=\"84381eceac0843338c0e2bb89edeb957\", element=\"6e25dc01-9d39-4ac9-9c02-3bf2c395c818\")>,\n",
              " <selenium.webdriver.remote.webelement.WebElement (session=\"84381eceac0843338c0e2bb89edeb957\", element=\"a3e9f86c-f414-4fa6-bf0b-fad52edd5fe5\")>,\n",
              " <selenium.webdriver.remote.webelement.WebElement (session=\"84381eceac0843338c0e2bb89edeb957\", element=\"51e77872-dc3c-4c47-a094-4c0f6d975030\")>,\n",
              " <selenium.webdriver.remote.webelement.WebElement (session=\"84381eceac0843338c0e2bb89edeb957\", element=\"65cc798d-26b4-4046-a233-7228ec44c86a\")>,\n",
              " <selenium.webdriver.remote.webelement.WebElement (session=\"84381eceac0843338c0e2bb89edeb957\", element=\"9e0c38a2-9846-4113-9b12-ef45d410f386\")>,\n",
              " <selenium.webdriver.remote.webelement.WebElement (session=\"84381eceac0843338c0e2bb89edeb957\", element=\"20e0c620-6a8c-45e8-9845-04be96293f56\")>,\n",
              " <selenium.webdriver.remote.webelement.WebElement (session=\"84381eceac0843338c0e2bb89edeb957\", element=\"32d3f195-ba5a-49f4-9e81-dfde92e00cf1\")>,\n",
              " <selenium.webdriver.remote.webelement.WebElement (session=\"84381eceac0843338c0e2bb89edeb957\", element=\"99399b41-9ce0-47d4-aa11-fd8141127e02\")>,\n",
              " <selenium.webdriver.remote.webelement.WebElement (session=\"84381eceac0843338c0e2bb89edeb957\", element=\"7bb3354c-73ad-4110-8f49-979dc002b52f\")>,\n",
              " <selenium.webdriver.remote.webelement.WebElement (session=\"84381eceac0843338c0e2bb89edeb957\", element=\"43824fc7-af6c-46ed-a4d5-86b8a34ca183\")>,\n",
              " <selenium.webdriver.remote.webelement.WebElement (session=\"84381eceac0843338c0e2bb89edeb957\", element=\"cf961fac-e1c1-4a19-8c68-74c7b2cccfac\")>,\n",
              " <selenium.webdriver.remote.webelement.WebElement (session=\"84381eceac0843338c0e2bb89edeb957\", element=\"f014c9dd-37c0-448e-9582-e41f283057da\")>,\n",
              " <selenium.webdriver.remote.webelement.WebElement (session=\"84381eceac0843338c0e2bb89edeb957\", element=\"8d5bfff6-6842-4f01-9d80-b5dbba9e555d\")>,\n",
              " <selenium.webdriver.remote.webelement.WebElement (session=\"84381eceac0843338c0e2bb89edeb957\", element=\"b69421a8-cbe1-45e2-bb50-bc8405c15b93\")>,\n",
              " <selenium.webdriver.remote.webelement.WebElement (session=\"84381eceac0843338c0e2bb89edeb957\", element=\"687e7caa-8311-4f7d-bc7f-0f3027caa92b\")>,\n",
              " <selenium.webdriver.remote.webelement.WebElement (session=\"84381eceac0843338c0e2bb89edeb957\", element=\"0c51cd2c-80ed-4b49-8b37-321b0d876388\")>,\n",
              " <selenium.webdriver.remote.webelement.WebElement (session=\"84381eceac0843338c0e2bb89edeb957\", element=\"1becc0fe-ffad-4504-92e2-433a2b9add60\")>,\n",
              " <selenium.webdriver.remote.webelement.WebElement (session=\"84381eceac0843338c0e2bb89edeb957\", element=\"c873e17d-4660-46ed-beec-d992406b4daa\")>,\n",
              " <selenium.webdriver.remote.webelement.WebElement (session=\"84381eceac0843338c0e2bb89edeb957\", element=\"a3a27750-495b-477a-870c-50cfd1cda142\")>,\n",
              " <selenium.webdriver.remote.webelement.WebElement (session=\"84381eceac0843338c0e2bb89edeb957\", element=\"796dad05-e915-4021-90c2-45197fdeb313\")>,\n",
              " <selenium.webdriver.remote.webelement.WebElement (session=\"84381eceac0843338c0e2bb89edeb957\", element=\"edfb71ab-4619-41ba-a889-b38cae09685c\")>,\n",
              " <selenium.webdriver.remote.webelement.WebElement (session=\"84381eceac0843338c0e2bb89edeb957\", element=\"440773a1-95f8-4ec0-bb3c-1864b68eb22b\")>,\n",
              " <selenium.webdriver.remote.webelement.WebElement (session=\"84381eceac0843338c0e2bb89edeb957\", element=\"cbbc1c5e-14c1-489d-afe0-581a642d0ee6\")>]"
            ]
          },
          "metadata": {},
          "execution_count": 7
        }
      ]
    },
    {
      "cell_type": "markdown",
      "metadata": {
        "id": "QeDKavjEjnFh"
      },
      "source": [
        "Se puede apreciar como realizando la misma búsqueda sobre la misma página, la referencia (identificador del elemento) ha cambiado. Ejemplo: `element=\"b1a1df32-a801-4239-bd87-a11ed4d554a5\"` vs `element=\"dc618bc7-cb7a-448d-ab52-d758b9b076df\"`. Es por esto que al iterar sobre la primera búsqueda y volver atras, no podemos clicar/acceder al siguiente elemento (ya que el id será diferente)"
      ]
    },
    {
      "cell_type": "code",
      "metadata": {
        "colab": {
          "base_uri": "https://localhost:8080/",
          "height": 838
        },
        "id": "Kyg7iiMgmdwX",
        "outputId": "d3a94437-d40f-4ff4-aa64-7978b47a13df"
      },
      "source": [
        "# Search list of medicines\n",
        "meds = driver.find_elements(By.CSS_SELECTOR,\"div[onclick*=medicamentoOnSelect]\")\n",
        "for m in meds:\n",
        "  m.click() #La excepción salta en el momento de querer acceder al 2º elemento (al 1º sí que puede acceder)\n",
        "  driver.implicitly_wait(5)\n",
        "  driver.back()"
      ],
      "execution_count": 8,
      "outputs": [
        {
          "output_type": "error",
          "ename": "StaleElementReferenceException",
          "evalue": "ignored",
          "traceback": [
            "\u001b[0;31m---------------------------------------------------------------------------\u001b[0m",
            "\u001b[0;31mStaleElementReferenceException\u001b[0m            Traceback (most recent call last)",
            "\u001b[0;32m<ipython-input-8-42e7f5938e99>\u001b[0m in \u001b[0;36m<module>\u001b[0;34m()\u001b[0m\n\u001b[1;32m      2\u001b[0m \u001b[0mmeds\u001b[0m \u001b[0;34m=\u001b[0m \u001b[0mdriver\u001b[0m\u001b[0;34m.\u001b[0m\u001b[0mfind_elements\u001b[0m\u001b[0;34m(\u001b[0m\u001b[0mBy\u001b[0m\u001b[0;34m.\u001b[0m\u001b[0mCSS_SELECTOR\u001b[0m\u001b[0;34m,\u001b[0m\u001b[0;34m\"div[onclick*=medicamentoOnSelect]\"\u001b[0m\u001b[0;34m)\u001b[0m\u001b[0;34m\u001b[0m\u001b[0;34m\u001b[0m\u001b[0m\n\u001b[1;32m      3\u001b[0m \u001b[0;32mfor\u001b[0m \u001b[0mm\u001b[0m \u001b[0;32min\u001b[0m \u001b[0mmeds\u001b[0m\u001b[0;34m:\u001b[0m\u001b[0;34m\u001b[0m\u001b[0;34m\u001b[0m\u001b[0m\n\u001b[0;32m----> 4\u001b[0;31m   \u001b[0mm\u001b[0m\u001b[0;34m.\u001b[0m\u001b[0mclick\u001b[0m\u001b[0;34m(\u001b[0m\u001b[0;34m)\u001b[0m\u001b[0;34m\u001b[0m\u001b[0;34m\u001b[0m\u001b[0m\n\u001b[0m\u001b[1;32m      5\u001b[0m   \u001b[0mdriver\u001b[0m\u001b[0;34m.\u001b[0m\u001b[0mimplicitly_wait\u001b[0m\u001b[0;34m(\u001b[0m\u001b[0;36m5\u001b[0m\u001b[0;34m)\u001b[0m\u001b[0;34m\u001b[0m\u001b[0;34m\u001b[0m\u001b[0m\n\u001b[1;32m      6\u001b[0m   \u001b[0mdriver\u001b[0m\u001b[0;34m.\u001b[0m\u001b[0mback\u001b[0m\u001b[0;34m(\u001b[0m\u001b[0;34m)\u001b[0m\u001b[0;34m\u001b[0m\u001b[0;34m\u001b[0m\u001b[0m\n",
            "\u001b[0;32m/usr/local/lib/python3.7/dist-packages/selenium/webdriver/remote/webelement.py\u001b[0m in \u001b[0;36mclick\u001b[0;34m(self)\u001b[0m\n\u001b[1;32m     78\u001b[0m     \u001b[0;32mdef\u001b[0m \u001b[0mclick\u001b[0m\u001b[0;34m(\u001b[0m\u001b[0mself\u001b[0m\u001b[0;34m)\u001b[0m \u001b[0;34m->\u001b[0m \u001b[0;32mNone\u001b[0m\u001b[0;34m:\u001b[0m\u001b[0;34m\u001b[0m\u001b[0;34m\u001b[0m\u001b[0m\n\u001b[1;32m     79\u001b[0m         \u001b[0;34m\"\"\"Clicks the element.\"\"\"\u001b[0m\u001b[0;34m\u001b[0m\u001b[0;34m\u001b[0m\u001b[0m\n\u001b[0;32m---> 80\u001b[0;31m         \u001b[0mself\u001b[0m\u001b[0;34m.\u001b[0m\u001b[0m_execute\u001b[0m\u001b[0;34m(\u001b[0m\u001b[0mCommand\u001b[0m\u001b[0;34m.\u001b[0m\u001b[0mCLICK_ELEMENT\u001b[0m\u001b[0;34m)\u001b[0m\u001b[0;34m\u001b[0m\u001b[0;34m\u001b[0m\u001b[0m\n\u001b[0m\u001b[1;32m     81\u001b[0m \u001b[0;34m\u001b[0m\u001b[0m\n\u001b[1;32m     82\u001b[0m     \u001b[0;32mdef\u001b[0m \u001b[0msubmit\u001b[0m\u001b[0;34m(\u001b[0m\u001b[0mself\u001b[0m\u001b[0;34m)\u001b[0m\u001b[0;34m:\u001b[0m\u001b[0;34m\u001b[0m\u001b[0;34m\u001b[0m\u001b[0m\n",
            "\u001b[0;32m/usr/local/lib/python3.7/dist-packages/selenium/webdriver/remote/webelement.py\u001b[0m in \u001b[0;36m_execute\u001b[0;34m(self, command, params)\u001b[0m\n\u001b[1;32m    691\u001b[0m             \u001b[0mparams\u001b[0m \u001b[0;34m=\u001b[0m \u001b[0;34m{\u001b[0m\u001b[0;34m}\u001b[0m\u001b[0;34m\u001b[0m\u001b[0;34m\u001b[0m\u001b[0m\n\u001b[1;32m    692\u001b[0m         \u001b[0mparams\u001b[0m\u001b[0;34m[\u001b[0m\u001b[0;34m'id'\u001b[0m\u001b[0;34m]\u001b[0m \u001b[0;34m=\u001b[0m \u001b[0mself\u001b[0m\u001b[0;34m.\u001b[0m\u001b[0m_id\u001b[0m\u001b[0;34m\u001b[0m\u001b[0;34m\u001b[0m\u001b[0m\n\u001b[0;32m--> 693\u001b[0;31m         \u001b[0;32mreturn\u001b[0m \u001b[0mself\u001b[0m\u001b[0;34m.\u001b[0m\u001b[0m_parent\u001b[0m\u001b[0;34m.\u001b[0m\u001b[0mexecute\u001b[0m\u001b[0;34m(\u001b[0m\u001b[0mcommand\u001b[0m\u001b[0;34m,\u001b[0m \u001b[0mparams\u001b[0m\u001b[0;34m)\u001b[0m\u001b[0;34m\u001b[0m\u001b[0;34m\u001b[0m\u001b[0m\n\u001b[0m\u001b[1;32m    694\u001b[0m \u001b[0;34m\u001b[0m\u001b[0m\n\u001b[1;32m    695\u001b[0m     \u001b[0;32mdef\u001b[0m \u001b[0mfind_element\u001b[0m\u001b[0;34m(\u001b[0m\u001b[0mself\u001b[0m\u001b[0;34m,\u001b[0m \u001b[0mby\u001b[0m\u001b[0;34m=\u001b[0m\u001b[0mBy\u001b[0m\u001b[0;34m.\u001b[0m\u001b[0mID\u001b[0m\u001b[0;34m,\u001b[0m \u001b[0mvalue\u001b[0m\u001b[0;34m=\u001b[0m\u001b[0;32mNone\u001b[0m\u001b[0;34m)\u001b[0m\u001b[0;34m:\u001b[0m\u001b[0;34m\u001b[0m\u001b[0;34m\u001b[0m\u001b[0m\n",
            "\u001b[0;32m/usr/local/lib/python3.7/dist-packages/selenium/webdriver/remote/webdriver.py\u001b[0m in \u001b[0;36mexecute\u001b[0;34m(self, driver_command, params)\u001b[0m\n\u001b[1;32m    416\u001b[0m         \u001b[0mresponse\u001b[0m \u001b[0;34m=\u001b[0m \u001b[0mself\u001b[0m\u001b[0;34m.\u001b[0m\u001b[0mcommand_executor\u001b[0m\u001b[0;34m.\u001b[0m\u001b[0mexecute\u001b[0m\u001b[0;34m(\u001b[0m\u001b[0mdriver_command\u001b[0m\u001b[0;34m,\u001b[0m \u001b[0mparams\u001b[0m\u001b[0;34m)\u001b[0m\u001b[0;34m\u001b[0m\u001b[0;34m\u001b[0m\u001b[0m\n\u001b[1;32m    417\u001b[0m         \u001b[0;32mif\u001b[0m \u001b[0mresponse\u001b[0m\u001b[0;34m:\u001b[0m\u001b[0;34m\u001b[0m\u001b[0;34m\u001b[0m\u001b[0m\n\u001b[0;32m--> 418\u001b[0;31m             \u001b[0mself\u001b[0m\u001b[0;34m.\u001b[0m\u001b[0merror_handler\u001b[0m\u001b[0;34m.\u001b[0m\u001b[0mcheck_response\u001b[0m\u001b[0;34m(\u001b[0m\u001b[0mresponse\u001b[0m\u001b[0;34m)\u001b[0m\u001b[0;34m\u001b[0m\u001b[0;34m\u001b[0m\u001b[0m\n\u001b[0m\u001b[1;32m    419\u001b[0m             response['value'] = self._unwrap_value(\n\u001b[1;32m    420\u001b[0m                 response.get('value', None))\n",
            "\u001b[0;32m/usr/local/lib/python3.7/dist-packages/selenium/webdriver/remote/errorhandler.py\u001b[0m in \u001b[0;36mcheck_response\u001b[0;34m(self, response)\u001b[0m\n\u001b[1;32m    241\u001b[0m                 \u001b[0malert_text\u001b[0m \u001b[0;34m=\u001b[0m \u001b[0mvalue\u001b[0m\u001b[0;34m[\u001b[0m\u001b[0;34m'alert'\u001b[0m\u001b[0;34m]\u001b[0m\u001b[0;34m.\u001b[0m\u001b[0mget\u001b[0m\u001b[0;34m(\u001b[0m\u001b[0;34m'text'\u001b[0m\u001b[0;34m)\u001b[0m\u001b[0;34m\u001b[0m\u001b[0;34m\u001b[0m\u001b[0m\n\u001b[1;32m    242\u001b[0m             \u001b[0;32mraise\u001b[0m \u001b[0mexception_class\u001b[0m\u001b[0;34m(\u001b[0m\u001b[0mmessage\u001b[0m\u001b[0;34m,\u001b[0m \u001b[0mscreen\u001b[0m\u001b[0;34m,\u001b[0m \u001b[0mstacktrace\u001b[0m\u001b[0;34m,\u001b[0m \u001b[0malert_text\u001b[0m\u001b[0;34m)\u001b[0m  \u001b[0;31m# type: ignore[call-arg]  # mypy is not smart enough here\u001b[0m\u001b[0;34m\u001b[0m\u001b[0;34m\u001b[0m\u001b[0m\n\u001b[0;32m--> 243\u001b[0;31m         \u001b[0;32mraise\u001b[0m \u001b[0mexception_class\u001b[0m\u001b[0;34m(\u001b[0m\u001b[0mmessage\u001b[0m\u001b[0;34m,\u001b[0m \u001b[0mscreen\u001b[0m\u001b[0;34m,\u001b[0m \u001b[0mstacktrace\u001b[0m\u001b[0;34m)\u001b[0m\u001b[0;34m\u001b[0m\u001b[0;34m\u001b[0m\u001b[0m\n\u001b[0m\u001b[1;32m    244\u001b[0m \u001b[0;34m\u001b[0m\u001b[0m\n\u001b[1;32m    245\u001b[0m     \u001b[0;32mdef\u001b[0m \u001b[0m_value_or_default\u001b[0m\u001b[0;34m(\u001b[0m\u001b[0mself\u001b[0m\u001b[0;34m,\u001b[0m \u001b[0mobj\u001b[0m\u001b[0;34m:\u001b[0m \u001b[0mMapping\u001b[0m\u001b[0;34m[\u001b[0m\u001b[0m_KT\u001b[0m\u001b[0;34m,\u001b[0m \u001b[0m_VT\u001b[0m\u001b[0;34m]\u001b[0m\u001b[0;34m,\u001b[0m \u001b[0mkey\u001b[0m\u001b[0;34m:\u001b[0m \u001b[0m_KT\u001b[0m\u001b[0;34m,\u001b[0m \u001b[0mdefault\u001b[0m\u001b[0;34m:\u001b[0m \u001b[0m_VT\u001b[0m\u001b[0;34m)\u001b[0m \u001b[0;34m->\u001b[0m \u001b[0m_VT\u001b[0m\u001b[0;34m:\u001b[0m\u001b[0;34m\u001b[0m\u001b[0;34m\u001b[0m\u001b[0m\n",
            "\u001b[0;31mStaleElementReferenceException\u001b[0m: Message: stale element reference: element is not attached to the page document\n  (Session info: headless chrome=94.0.4606.81)\nStacktrace:\n#0 0x56255dd7b043 <unknown>\n#1 0x56255da8c9f3 <unknown>\n#2 0x56255da8f962 <unknown>\n#3 0x56255da8f769 <unknown>\n#4 0x56255da8fa17 <unknown>\n#5 0x56255dac3ce9 <unknown>\n#6 0x56255dab8409 <unknown>\n#7 0x56255dadf302 <unknown>\n#8 0x56255dab8296 <unknown>\n#9 0x56255dadf69e <unknown>\n#10 0x56255daf39bc <unknown>\n#11 0x56255dadf643 <unknown>\n#12 0x56255dab68ec <unknown>\n#13 0x56255dab7db5 <unknown>\n#14 0x56255dd9f374 <unknown>\n#15 0x56255ddaeabd <unknown>\n#16 0x56255ddae7db <unknown>\n#17 0x56255ddaf102 <unknown>\n#18 0x56255dde7e8b <unknown>\n#19 0x56255ddaf361 <unknown>\n#20 0x56255dd94251 <unknown>\n#21 0x56255ddb7d68 <unknown>\n#22 0x56255ddb7efa <unknown>\n#23 0x56255ddd1c8f <unknown>\n#24 0x7f36bb5346db start_thread\n"
          ]
        }
      ]
    }
  ]
}